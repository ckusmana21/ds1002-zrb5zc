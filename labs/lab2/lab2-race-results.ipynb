{
  "nbformat": 4,
  "nbformat_minor": 0,
  "metadata": {
    "colab": {
      "provenance": [],
      "include_colab_link": true
    },
    "kernelspec": {
      "name": "ir",
      "display_name": "R"
    },
    "language_info": {
      "name": "R"
    }
  },
  "cells": [
    {
      "cell_type": "markdown",
      "metadata": {
        "id": "view-in-github",
        "colab_type": "text"
      },
      "source": [
        "<a href=\"https://colab.research.google.com/github/ckusmana21/ds1002-zrb5zc/blob/main/labs/lab2/lab2-race-results.ipynb\" target=\"_parent\"><img src=\"https://colab.research.google.com/assets/colab-badge.svg\" alt=\"Open In Colab\"/></a>"
      ]
    },
    {
      "cell_type": "markdown",
      "source": [
        "# DS1002 Lab 2: Determine Race Results with R\n",
        "\n",
        "In this lab you will work with a dataset, writing R to generate the deliverables specified in the cells below.\n",
        "\n",
        "The dataset for this lab is made up of fictitious results from a road race. Runner information and results is provided in the data.\n",
        "\n",
        "Answer the questions below with the appropriate R code. Point assignments are indicated for each section. There are 10 total points possible for this lab.\n",
        "\n",
        "Useful reference material (check all R modules within the Canvas site for more help)\n",
        "- [R Reference Material](https://canvas.its.virginia.edu/courses/78571/modules#module_219810).\n",
        "- [Plots Samples](https://colab.research.google.com/github/nmagee/ds1002/blob/main/notebooks/25-plots-in-r.ipynb)"
      ],
      "metadata": {
        "id": "2yEePrJ-1G1Z"
      }
    },
    {
      "cell_type": "markdown",
      "source": [
        "## Group Submissions\n",
        "\n",
        "If you are working in a group to complete this lab, you may have no more than 3 members to a group. Group members should be indicated in the cell below -- list both names and UVA computing IDs.\n",
        "\n",
        "Each student should then submit **the same URL** for the lab in Canvas. (If a group has Member1, Member2, and Member3, only one member needs to save the completed work back to GitHub and all members should submit that URL for grading.)"
      ],
      "metadata": {
        "id": "acXFkytd2PWS"
      }
    },
    {
      "cell_type": "code",
      "source": [
        "# List group members (if applicable). Identify names and computing IDs\n",
        "# Clarissa Kusmana, zrb5zc"
      ],
      "metadata": {
        "id": "4N8_o3tG232h"
      },
      "execution_count": 2,
      "outputs": []
    },
    {
      "cell_type": "markdown",
      "source": [
        "## 1. Load Libraries & Data (1 pt)\n",
        "\n",
        "https://raw.githubusercontent.com/nmagee/ds1002/main/data/road-race.csv\n",
        "\n",
        "Import any necessary libraries and load the remote CSV file below into a data frame."
      ],
      "metadata": {
        "id": "w0VxTDNf1k2O"
      }
    },
    {
      "cell_type": "code",
      "execution_count": 1,
      "metadata": {
        "id": "I0B9chFD1GR0",
        "colab": {
          "base_uri": "https://localhost:8080/",
          "height": 862
        },
        "outputId": "82ff1a14-e86e-4481-88fb-701165319b4d"
      },
      "outputs": [
        {
          "output_type": "stream",
          "name": "stderr",
          "text": [
            "\n",
            "Attaching package: ‘dplyr’\n",
            "\n",
            "\n",
            "The following objects are masked from ‘package:stats’:\n",
            "\n",
            "    filter, lag\n",
            "\n",
            "\n",
            "The following objects are masked from ‘package:base’:\n",
            "\n",
            "    intersect, setdiff, setequal, union\n",
            "\n",
            "\n",
            "Installing package into ‘/usr/local/lib/R/site-library’\n",
            "(as ‘lib’ is unspecified)\n",
            "\n",
            "\n",
            "Attaching package: ‘gridExtra’\n",
            "\n",
            "\n",
            "The following object is masked from ‘package:dplyr’:\n",
            "\n",
            "    combine\n",
            "\n",
            "\n"
          ]
        },
        {
          "output_type": "display_data",
          "data": {
            "text/html": [
              "<table class=\"dataframe\">\n",
              "<caption>A data.frame: 10 × 5</caption>\n",
              "<thead>\n",
              "\t<tr><th></th><th scope=col>runner_bib</th><th scope=col>runner_name</th><th scope=col>runner_age</th><th scope=col>runner_gender</th><th scope=col>finish_time</th></tr>\n",
              "\t<tr><th></th><th scope=col>&lt;int&gt;</th><th scope=col>&lt;chr&gt;</th><th scope=col>&lt;int&gt;</th><th scope=col>&lt;chr&gt;</th><th scope=col>&lt;chr&gt;</th></tr>\n",
              "</thead>\n",
              "<tbody>\n",
              "\t<tr><th scope=row>1</th><td> 1</td><td>Loydie Lopes    </td><td>17</td><td>Male  </td><td>16:01</td></tr>\n",
              "\t<tr><th scope=row>2</th><td> 2</td><td>Lorens Crispe   </td><td>33</td><td>Male  </td><td>15:40</td></tr>\n",
              "\t<tr><th scope=row>3</th><td> 3</td><td>Shirline Hasser </td><td>22</td><td>Female</td><td>14:20</td></tr>\n",
              "\t<tr><th scope=row>4</th><td> 4</td><td>Alleyn Hartshorn</td><td>39</td><td>Male  </td><td>17:06</td></tr>\n",
              "\t<tr><th scope=row>5</th><td> 5</td><td>Wang MacColl    </td><td>50</td><td>Male  </td><td>16:49</td></tr>\n",
              "\t<tr><th scope=row>6</th><td> 6</td><td>Tonnie Tidder   </td><td>44</td><td>Male  </td><td>15:43</td></tr>\n",
              "\t<tr><th scope=row>7</th><td> 7</td><td>Hermy Everal    </td><td>51</td><td>Male  </td><td>     </td></tr>\n",
              "\t<tr><th scope=row>8</th><td> 8</td><td>Basil Moxsom    </td><td>44</td><td>Male  </td><td>15:16</td></tr>\n",
              "\t<tr><th scope=row>9</th><td> 9</td><td>Lark Bragge     </td><td>30</td><td>Female</td><td>15:59</td></tr>\n",
              "\t<tr><th scope=row>10</th><td>10</td><td>Kent Wakely     </td><td>60</td><td>Male  </td><td>14:29</td></tr>\n",
              "</tbody>\n",
              "</table>\n"
            ],
            "text/markdown": "\nA data.frame: 10 × 5\n\n| <!--/--> | runner_bib &lt;int&gt; | runner_name &lt;chr&gt; | runner_age &lt;int&gt; | runner_gender &lt;chr&gt; | finish_time &lt;chr&gt; |\n|---|---|---|---|---|---|\n| 1 |  1 | Loydie Lopes     | 17 | Male   | 16:01 |\n| 2 |  2 | Lorens Crispe    | 33 | Male   | 15:40 |\n| 3 |  3 | Shirline Hasser  | 22 | Female | 14:20 |\n| 4 |  4 | Alleyn Hartshorn | 39 | Male   | 17:06 |\n| 5 |  5 | Wang MacColl     | 50 | Male   | 16:49 |\n| 6 |  6 | Tonnie Tidder    | 44 | Male   | 15:43 |\n| 7 |  7 | Hermy Everal     | 51 | Male   | <!----> |\n| 8 |  8 | Basil Moxsom     | 44 | Male   | 15:16 |\n| 9 |  9 | Lark Bragge      | 30 | Female | 15:59 |\n| 10 | 10 | Kent Wakely      | 60 | Male   | 14:29 |\n\n",
            "text/latex": "A data.frame: 10 × 5\n\\begin{tabular}{r|lllll}\n  & runner\\_bib & runner\\_name & runner\\_age & runner\\_gender & finish\\_time\\\\\n  & <int> & <chr> & <int> & <chr> & <chr>\\\\\n\\hline\n\t1 &  1 & Loydie Lopes     & 17 & Male   & 16:01\\\\\n\t2 &  2 & Lorens Crispe    & 33 & Male   & 15:40\\\\\n\t3 &  3 & Shirline Hasser  & 22 & Female & 14:20\\\\\n\t4 &  4 & Alleyn Hartshorn & 39 & Male   & 17:06\\\\\n\t5 &  5 & Wang MacColl     & 50 & Male   & 16:49\\\\\n\t6 &  6 & Tonnie Tidder    & 44 & Male   & 15:43\\\\\n\t7 &  7 & Hermy Everal     & 51 & Male   &      \\\\\n\t8 &  8 & Basil Moxsom     & 44 & Male   & 15:16\\\\\n\t9 &  9 & Lark Bragge      & 30 & Female & 15:59\\\\\n\t10 & 10 & Kent Wakely      & 60 & Male   & 14:29\\\\\n\\end{tabular}\n",
            "text/plain": [
              "   runner_bib runner_name      runner_age runner_gender finish_time\n",
              "1   1         Loydie Lopes     17         Male          16:01      \n",
              "2   2         Lorens Crispe    33         Male          15:40      \n",
              "3   3         Shirline Hasser  22         Female        14:20      \n",
              "4   4         Alleyn Hartshorn 39         Male          17:06      \n",
              "5   5         Wang MacColl     50         Male          16:49      \n",
              "6   6         Tonnie Tidder    44         Male          15:43      \n",
              "7   7         Hermy Everal     51         Male                     \n",
              "8   8         Basil Moxsom     44         Male          15:16      \n",
              "9   9         Lark Bragge      30         Female        15:59      \n",
              "10 10         Kent Wakely      60         Male          14:29      "
            ]
          },
          "metadata": {}
        }
      ],
      "source": [
        "library(readr)\n",
        "library(dplyr)\n",
        "library(ggplot2)\n",
        "install.packages(\"gridExtra\")\n",
        "library(gridExtra)\n",
        "\n",
        "dataset = read.csv(\"https://raw.githubusercontent.com/nmagee/ds1002/main/data/road-race.csv\")\n",
        "\n",
        "head(dataset, 10) # To check the data"
      ]
    },
    {
      "cell_type": "markdown",
      "source": [
        "## 2. Get Summary Data (1 pt)"
      ],
      "metadata": {
        "id": "H389W9dkobGI"
      }
    },
    {
      "cell_type": "markdown",
      "source": [
        "In code, display how many rows and columns are in the raw dataset."
      ],
      "metadata": {
        "id": "KA0wbjmE-4Q9"
      }
    },
    {
      "cell_type": "code",
      "source": [
        "cat(\"Rows:\", nrow(dataset), \"\\n\")\n",
        "cat(\"Columns:\", ncol(dataset), \"\\n\")\n"
      ],
      "metadata": {
        "id": "XhULtu7qox-p",
        "colab": {
          "base_uri": "https://localhost:8080/"
        },
        "outputId": "f6546639-ae17-4dcb-d37f-2ee4d69d1e6c"
      },
      "execution_count": 2,
      "outputs": [
        {
          "output_type": "stream",
          "name": "stdout",
          "text": [
            "Rows: 764 \n",
            "Columns: 5 \n"
          ]
        }
      ]
    },
    {
      "cell_type": "markdown",
      "source": [
        "## 3. Clean and Organize the Data (2 pts)\n",
        "\n",
        "Check for data quality.\n",
        "\n",
        "- Resolve any duplicate rows.\n",
        "- If a runner does not have a finish time, they are DNF and should not be counted in the dataset.\n",
        "\n"
      ],
      "metadata": {
        "id": "abshX7QeooAs"
      }
    },
    {
      "cell_type": "code",
      "source": [
        "#\n",
        "dataset_1 = unique(dataset)\n",
        "dim(dataset_1) # To check if the numbers of column and row have changed\n",
        "\n",
        "dataset_2 = subset(dataset_1, !is.na(finish_time) & finish_time != \"\")\n",
        "dim(dataset_2)"
      ],
      "metadata": {
        "id": "Aq3J7yD82uwW",
        "colab": {
          "base_uri": "https://localhost:8080/",
          "height": 52
        },
        "outputId": "8f7351d3-ec10-4943-c242-f51bb3ff6caa"
      },
      "execution_count": 3,
      "outputs": [
        {
          "output_type": "display_data",
          "data": {
            "text/html": [
              "<style>\n",
              ".list-inline {list-style: none; margin:0; padding: 0}\n",
              ".list-inline>li {display: inline-block}\n",
              ".list-inline>li:not(:last-child)::after {content: \"\\00b7\"; padding: 0 .5ex}\n",
              "</style>\n",
              "<ol class=list-inline><li>640</li><li>5</li></ol>\n"
            ],
            "text/markdown": "1. 640\n2. 5\n\n\n",
            "text/latex": "\\begin{enumerate*}\n\\item 640\n\\item 5\n\\end{enumerate*}\n",
            "text/plain": [
              "[1] 640   5"
            ]
          },
          "metadata": {}
        },
        {
          "output_type": "display_data",
          "data": {
            "text/html": [
              "<style>\n",
              ".list-inline {list-style: none; margin:0; padding: 0}\n",
              ".list-inline>li {display: inline-block}\n",
              ".list-inline>li:not(:last-child)::after {content: \"\\00b7\"; padding: 0 .5ex}\n",
              "</style>\n",
              "<ol class=list-inline><li>594</li><li>5</li></ol>\n"
            ],
            "text/markdown": "1. 594\n2. 5\n\n\n",
            "text/latex": "\\begin{enumerate*}\n\\item 594\n\\item 5\n\\end{enumerate*}\n",
            "text/plain": [
              "[1] 594   5"
            ]
          },
          "metadata": {}
        }
      ]
    },
    {
      "cell_type": "markdown",
      "source": [
        "\n",
        "Now display the first 10 rows of the cleaned dataset."
      ],
      "metadata": {
        "id": "Ccwu8bUx_Azj"
      }
    },
    {
      "cell_type": "code",
      "source": [
        "#\n",
        "head(dataset_2, 10)"
      ],
      "metadata": {
        "id": "1iVIskCs_Ewe",
        "colab": {
          "base_uri": "https://localhost:8080/",
          "height": 411
        },
        "outputId": "b012c007-e450-4434-fbcb-fc339b84cf26"
      },
      "execution_count": 4,
      "outputs": [
        {
          "output_type": "display_data",
          "data": {
            "text/html": [
              "<table class=\"dataframe\">\n",
              "<caption>A data.frame: 10 × 5</caption>\n",
              "<thead>\n",
              "\t<tr><th></th><th scope=col>runner_bib</th><th scope=col>runner_name</th><th scope=col>runner_age</th><th scope=col>runner_gender</th><th scope=col>finish_time</th></tr>\n",
              "\t<tr><th></th><th scope=col>&lt;int&gt;</th><th scope=col>&lt;chr&gt;</th><th scope=col>&lt;int&gt;</th><th scope=col>&lt;chr&gt;</th><th scope=col>&lt;chr&gt;</th></tr>\n",
              "</thead>\n",
              "<tbody>\n",
              "\t<tr><th scope=row>1</th><td> 1</td><td>Loydie Lopes    </td><td>17</td><td>Male  </td><td>16:01</td></tr>\n",
              "\t<tr><th scope=row>2</th><td> 2</td><td>Lorens Crispe   </td><td>33</td><td>Male  </td><td>15:40</td></tr>\n",
              "\t<tr><th scope=row>3</th><td> 3</td><td>Shirline Hasser </td><td>22</td><td>Female</td><td>14:20</td></tr>\n",
              "\t<tr><th scope=row>4</th><td> 4</td><td>Alleyn Hartshorn</td><td>39</td><td>Male  </td><td>17:06</td></tr>\n",
              "\t<tr><th scope=row>5</th><td> 5</td><td>Wang MacColl    </td><td>50</td><td>Male  </td><td>16:49</td></tr>\n",
              "\t<tr><th scope=row>6</th><td> 6</td><td>Tonnie Tidder   </td><td>44</td><td>Male  </td><td>15:43</td></tr>\n",
              "\t<tr><th scope=row>8</th><td> 8</td><td>Basil Moxsom    </td><td>44</td><td>Male  </td><td>15:16</td></tr>\n",
              "\t<tr><th scope=row>9</th><td> 9</td><td>Lark Bragge     </td><td>30</td><td>Female</td><td>15:59</td></tr>\n",
              "\t<tr><th scope=row>10</th><td>10</td><td>Kent Wakely     </td><td>60</td><td>Male  </td><td>14:29</td></tr>\n",
              "\t<tr><th scope=row>11</th><td>11</td><td>Judye Hattrick  </td><td>17</td><td>Female</td><td>15:27</td></tr>\n",
              "</tbody>\n",
              "</table>\n"
            ],
            "text/markdown": "\nA data.frame: 10 × 5\n\n| <!--/--> | runner_bib &lt;int&gt; | runner_name &lt;chr&gt; | runner_age &lt;int&gt; | runner_gender &lt;chr&gt; | finish_time &lt;chr&gt; |\n|---|---|---|---|---|---|\n| 1 |  1 | Loydie Lopes     | 17 | Male   | 16:01 |\n| 2 |  2 | Lorens Crispe    | 33 | Male   | 15:40 |\n| 3 |  3 | Shirline Hasser  | 22 | Female | 14:20 |\n| 4 |  4 | Alleyn Hartshorn | 39 | Male   | 17:06 |\n| 5 |  5 | Wang MacColl     | 50 | Male   | 16:49 |\n| 6 |  6 | Tonnie Tidder    | 44 | Male   | 15:43 |\n| 8 |  8 | Basil Moxsom     | 44 | Male   | 15:16 |\n| 9 |  9 | Lark Bragge      | 30 | Female | 15:59 |\n| 10 | 10 | Kent Wakely      | 60 | Male   | 14:29 |\n| 11 | 11 | Judye Hattrick   | 17 | Female | 15:27 |\n\n",
            "text/latex": "A data.frame: 10 × 5\n\\begin{tabular}{r|lllll}\n  & runner\\_bib & runner\\_name & runner\\_age & runner\\_gender & finish\\_time\\\\\n  & <int> & <chr> & <int> & <chr> & <chr>\\\\\n\\hline\n\t1 &  1 & Loydie Lopes     & 17 & Male   & 16:01\\\\\n\t2 &  2 & Lorens Crispe    & 33 & Male   & 15:40\\\\\n\t3 &  3 & Shirline Hasser  & 22 & Female & 14:20\\\\\n\t4 &  4 & Alleyn Hartshorn & 39 & Male   & 17:06\\\\\n\t5 &  5 & Wang MacColl     & 50 & Male   & 16:49\\\\\n\t6 &  6 & Tonnie Tidder    & 44 & Male   & 15:43\\\\\n\t8 &  8 & Basil Moxsom     & 44 & Male   & 15:16\\\\\n\t9 &  9 & Lark Bragge      & 30 & Female & 15:59\\\\\n\t10 & 10 & Kent Wakely      & 60 & Male   & 14:29\\\\\n\t11 & 11 & Judye Hattrick   & 17 & Female & 15:27\\\\\n\\end{tabular}\n",
            "text/plain": [
              "   runner_bib runner_name      runner_age runner_gender finish_time\n",
              "1   1         Loydie Lopes     17         Male          16:01      \n",
              "2   2         Lorens Crispe    33         Male          15:40      \n",
              "3   3         Shirline Hasser  22         Female        14:20      \n",
              "4   4         Alleyn Hartshorn 39         Male          17:06      \n",
              "5   5         Wang MacColl     50         Male          16:49      \n",
              "6   6         Tonnie Tidder    44         Male          15:43      \n",
              "8   8         Basil Moxsom     44         Male          15:16      \n",
              "9   9         Lark Bragge      30         Female        15:59      \n",
              "10 10         Kent Wakely      60         Male          14:29      \n",
              "11 11         Judye Hattrick   17         Female        15:27      "
            ]
          },
          "metadata": {}
        }
      ]
    },
    {
      "cell_type": "markdown",
      "source": [
        "## 4. Calculate Elapsed Time (3 pts)"
      ],
      "metadata": {
        "id": "3-4dd8nsr_zF"
      }
    },
    {
      "cell_type": "markdown",
      "source": [
        "Using R, add a new column named `[\"finish_minutes\"]` to the dataframe that calculates the number of minutes it took for the runner to complete the race. Ideally this is a column consisting of plain integers.\n",
        "\n",
        "The starting gun was fired at precisely 12:00pm that day.\n",
        "\n",
        "Note: This is calculated using a built-in function of R, `difftime()` which takes 3 parameters:\n",
        "\n",
        "- End time\n",
        "- Start time\n",
        "- Units\n",
        "\n",
        "The result is an output that figures the difference between the two: `3 days`, `14 years`, `112 mins`, etc.\n",
        "\n",
        "The syntax for that function is below. Take care to use the proper order of parameters. The `as.POSIXct` casting makes it possible to read a long datetime in the `YYYY-MM-DDTHH:MM` format, a common `datetime` value. The `format` parameter specifies the pattern you are trying to read.\n",
        "\n",
        "```\n",
        "df$new-column <- (difftime( as.POSIXct(df$end-column, format=\"%Y-%m-%dT%H:%M\"),\n",
        "                            as.POSIXct(df$start-column, format=\"%Y-%m-%dT%H:%M\"),\n",
        "                            units=\"min\"))\n",
        "```"
      ],
      "metadata": {
        "id": "HrGLlM83vH0c"
      }
    },
    {
      "cell_type": "code",
      "source": [
        "#\n",
        "dataset_2$finish_minutes = as.integer(difftime(\n",
        "  as.POSIXct(dataset_2$finish_time, format=\"%H:%M\"),\n",
        "  as.POSIXct(\"12:00\", format=\"%H:%M\"),\n",
        "  units=\"mins\"\n",
        "))\n",
        "head(dataset_2, 10)"
      ],
      "metadata": {
        "id": "5HKqg1bfAXbl",
        "colab": {
          "base_uri": "https://localhost:8080/",
          "height": 411
        },
        "outputId": "1af1f990-8275-4dff-f125-14684265e7b0"
      },
      "execution_count": 5,
      "outputs": [
        {
          "output_type": "display_data",
          "data": {
            "text/html": [
              "<table class=\"dataframe\">\n",
              "<caption>A data.frame: 10 × 6</caption>\n",
              "<thead>\n",
              "\t<tr><th></th><th scope=col>runner_bib</th><th scope=col>runner_name</th><th scope=col>runner_age</th><th scope=col>runner_gender</th><th scope=col>finish_time</th><th scope=col>finish_minutes</th></tr>\n",
              "\t<tr><th></th><th scope=col>&lt;int&gt;</th><th scope=col>&lt;chr&gt;</th><th scope=col>&lt;int&gt;</th><th scope=col>&lt;chr&gt;</th><th scope=col>&lt;chr&gt;</th><th scope=col>&lt;int&gt;</th></tr>\n",
              "</thead>\n",
              "<tbody>\n",
              "\t<tr><th scope=row>1</th><td> 1</td><td>Loydie Lopes    </td><td>17</td><td>Male  </td><td>16:01</td><td>241</td></tr>\n",
              "\t<tr><th scope=row>2</th><td> 2</td><td>Lorens Crispe   </td><td>33</td><td>Male  </td><td>15:40</td><td>220</td></tr>\n",
              "\t<tr><th scope=row>3</th><td> 3</td><td>Shirline Hasser </td><td>22</td><td>Female</td><td>14:20</td><td>140</td></tr>\n",
              "\t<tr><th scope=row>4</th><td> 4</td><td>Alleyn Hartshorn</td><td>39</td><td>Male  </td><td>17:06</td><td>306</td></tr>\n",
              "\t<tr><th scope=row>5</th><td> 5</td><td>Wang MacColl    </td><td>50</td><td>Male  </td><td>16:49</td><td>289</td></tr>\n",
              "\t<tr><th scope=row>6</th><td> 6</td><td>Tonnie Tidder   </td><td>44</td><td>Male  </td><td>15:43</td><td>223</td></tr>\n",
              "\t<tr><th scope=row>8</th><td> 8</td><td>Basil Moxsom    </td><td>44</td><td>Male  </td><td>15:16</td><td>196</td></tr>\n",
              "\t<tr><th scope=row>9</th><td> 9</td><td>Lark Bragge     </td><td>30</td><td>Female</td><td>15:59</td><td>239</td></tr>\n",
              "\t<tr><th scope=row>10</th><td>10</td><td>Kent Wakely     </td><td>60</td><td>Male  </td><td>14:29</td><td>149</td></tr>\n",
              "\t<tr><th scope=row>11</th><td>11</td><td>Judye Hattrick  </td><td>17</td><td>Female</td><td>15:27</td><td>207</td></tr>\n",
              "</tbody>\n",
              "</table>\n"
            ],
            "text/markdown": "\nA data.frame: 10 × 6\n\n| <!--/--> | runner_bib &lt;int&gt; | runner_name &lt;chr&gt; | runner_age &lt;int&gt; | runner_gender &lt;chr&gt; | finish_time &lt;chr&gt; | finish_minutes &lt;int&gt; |\n|---|---|---|---|---|---|---|\n| 1 |  1 | Loydie Lopes     | 17 | Male   | 16:01 | 241 |\n| 2 |  2 | Lorens Crispe    | 33 | Male   | 15:40 | 220 |\n| 3 |  3 | Shirline Hasser  | 22 | Female | 14:20 | 140 |\n| 4 |  4 | Alleyn Hartshorn | 39 | Male   | 17:06 | 306 |\n| 5 |  5 | Wang MacColl     | 50 | Male   | 16:49 | 289 |\n| 6 |  6 | Tonnie Tidder    | 44 | Male   | 15:43 | 223 |\n| 8 |  8 | Basil Moxsom     | 44 | Male   | 15:16 | 196 |\n| 9 |  9 | Lark Bragge      | 30 | Female | 15:59 | 239 |\n| 10 | 10 | Kent Wakely      | 60 | Male   | 14:29 | 149 |\n| 11 | 11 | Judye Hattrick   | 17 | Female | 15:27 | 207 |\n\n",
            "text/latex": "A data.frame: 10 × 6\n\\begin{tabular}{r|llllll}\n  & runner\\_bib & runner\\_name & runner\\_age & runner\\_gender & finish\\_time & finish\\_minutes\\\\\n  & <int> & <chr> & <int> & <chr> & <chr> & <int>\\\\\n\\hline\n\t1 &  1 & Loydie Lopes     & 17 & Male   & 16:01 & 241\\\\\n\t2 &  2 & Lorens Crispe    & 33 & Male   & 15:40 & 220\\\\\n\t3 &  3 & Shirline Hasser  & 22 & Female & 14:20 & 140\\\\\n\t4 &  4 & Alleyn Hartshorn & 39 & Male   & 17:06 & 306\\\\\n\t5 &  5 & Wang MacColl     & 50 & Male   & 16:49 & 289\\\\\n\t6 &  6 & Tonnie Tidder    & 44 & Male   & 15:43 & 223\\\\\n\t8 &  8 & Basil Moxsom     & 44 & Male   & 15:16 & 196\\\\\n\t9 &  9 & Lark Bragge      & 30 & Female & 15:59 & 239\\\\\n\t10 & 10 & Kent Wakely      & 60 & Male   & 14:29 & 149\\\\\n\t11 & 11 & Judye Hattrick   & 17 & Female & 15:27 & 207\\\\\n\\end{tabular}\n",
            "text/plain": [
              "   runner_bib runner_name      runner_age runner_gender finish_time\n",
              "1   1         Loydie Lopes     17         Male          16:01      \n",
              "2   2         Lorens Crispe    33         Male          15:40      \n",
              "3   3         Shirline Hasser  22         Female        14:20      \n",
              "4   4         Alleyn Hartshorn 39         Male          17:06      \n",
              "5   5         Wang MacColl     50         Male          16:49      \n",
              "6   6         Tonnie Tidder    44         Male          15:43      \n",
              "8   8         Basil Moxsom     44         Male          15:16      \n",
              "9   9         Lark Bragge      30         Female        15:59      \n",
              "10 10         Kent Wakely      60         Male          14:29      \n",
              "11 11         Judye Hattrick   17         Female        15:27      \n",
              "   finish_minutes\n",
              "1  241           \n",
              "2  220           \n",
              "3  140           \n",
              "4  306           \n",
              "5  289           \n",
              "6  223           \n",
              "8  196           \n",
              "9  239           \n",
              "10 149           \n",
              "11 207           "
            ]
          },
          "metadata": {}
        }
      ]
    },
    {
      "cell_type": "markdown",
      "source": [
        "## 5. Identify Winners by Gender (2 pts)"
      ],
      "metadata": {
        "id": "KKg8d9RDyeDa"
      }
    },
    {
      "cell_type": "markdown",
      "source": [
        "Based on the minutes it took each runner to complete the race, identify the top three places for each gender.\n",
        "\n",
        "There are several ways to do this, some of which require less code than others. You will only be graded for producing the correct output, not on how elegant/advanced your programming is."
      ],
      "metadata": {
        "id": "5kKBo3_sykGD"
      }
    },
    {
      "cell_type": "code",
      "source": [
        "#\n",
        "dataset_2$finish_minutes = as.numeric(dataset_2$finish_minutes)\n",
        "dataset_2_filter = dataset_2 %>% arrange(runner_gender, finish_minutes)\n",
        "dataset_2_filter = dataset_2_filter %>% group_by(runner_gender) %>% mutate(rank = row_number())\n",
        "\n",
        "top_three = dataset_2_filter %>% filter(rank <= 3) %>%\n",
        "  group_split(runner_gender)\n",
        "\n",
        "for (separate_genders in top_three) {\n",
        "  gender = unique(separate_genders$runner_gender)\n",
        "  cat(\"Fastest 3 runners,\", gender, \":\\n\")\n",
        "  print(separate_genders)\n",
        "  cat(\"\\n\")\n",
        "}"
      ],
      "metadata": {
        "id": "xRlliRMY2_-c",
        "colab": {
          "base_uri": "https://localhost:8080/"
        },
        "outputId": "dbfa4515-30d1-46bd-e2b3-08e3c2e06c24"
      },
      "execution_count": 6,
      "outputs": [
        {
          "output_type": "stream",
          "name": "stderr",
          "text": [
            "Warning message:\n",
            "“\u001b[1m\u001b[22m... is ignored in group_split(<grouped_df>), please use group_by(..., .add =\n",
            "TRUE) %>% group_split()”\n"
          ]
        },
        {
          "output_type": "stream",
          "name": "stdout",
          "text": [
            "Fastest 3 runners, Agender :\n",
            "\u001b[90m# A tibble: 3 × 7\u001b[39m\n",
            "  runner_bib runner_name     runner_age runner_gender finish_time finish_minutes\n",
            "       \u001b[3m\u001b[90m<int>\u001b[39m\u001b[23m \u001b[3m\u001b[90m<chr>\u001b[39m\u001b[23m                \u001b[3m\u001b[90m<int>\u001b[39m\u001b[23m \u001b[3m\u001b[90m<chr>\u001b[39m\u001b[23m         \u001b[3m\u001b[90m<chr>\u001b[39m\u001b[23m                \u001b[3m\u001b[90m<dbl>\u001b[39m\u001b[23m\n",
            "\u001b[90m1\u001b[39m        321 Jacobo Telling          33 Agender       14:47                  167\n",
            "\u001b[90m2\u001b[39m        480 Tomasina Green…         22 Agender       15:12                  192\n",
            "\u001b[90m3\u001b[39m        332 Ina Bonifant            30 Agender       15:17                  197\n",
            "\u001b[90m# ℹ 1 more variable: rank <int>\u001b[39m\n",
            "\n",
            "Fastest 3 runners, Bigender :\n",
            "\u001b[90m# A tibble: 3 × 7\u001b[39m\n",
            "  runner_bib runner_name     runner_age runner_gender finish_time finish_minutes\n",
            "       \u001b[3m\u001b[90m<int>\u001b[39m\u001b[23m \u001b[3m\u001b[90m<chr>\u001b[39m\u001b[23m                \u001b[3m\u001b[90m<int>\u001b[39m\u001b[23m \u001b[3m\u001b[90m<chr>\u001b[39m\u001b[23m         \u001b[3m\u001b[90m<chr>\u001b[39m\u001b[23m                \u001b[3m\u001b[90m<dbl>\u001b[39m\u001b[23m\n",
            "\u001b[90m1\u001b[39m        249 Sephira Kirgan          33 Bigender      14:24                  144\n",
            "\u001b[90m2\u001b[39m        546 Chauncey Langt…         16 Bigender      14:29                  149\n",
            "\u001b[90m3\u001b[39m        263 Ernestus Draper         45 Bigender      14:58                  178\n",
            "\u001b[90m# ℹ 1 more variable: rank <int>\u001b[39m\n",
            "\n",
            "Fastest 3 runners, Female :\n",
            "\u001b[90m# A tibble: 3 × 7\u001b[39m\n",
            "  runner_bib runner_name     runner_age runner_gender finish_time finish_minutes\n",
            "       \u001b[3m\u001b[90m<int>\u001b[39m\u001b[23m \u001b[3m\u001b[90m<chr>\u001b[39m\u001b[23m                \u001b[3m\u001b[90m<int>\u001b[39m\u001b[23m \u001b[3m\u001b[90m<chr>\u001b[39m\u001b[23m         \u001b[3m\u001b[90m<chr>\u001b[39m\u001b[23m                \u001b[3m\u001b[90m<dbl>\u001b[39m\u001b[23m\n",
            "\u001b[90m1\u001b[39m         21 Carmencita Pet…         20 Female        14:15                  135\n",
            "\u001b[90m2\u001b[39m        134 Marylin Stande…         18 Female        14:15                  135\n",
            "\u001b[90m3\u001b[39m        238 Melloney Fonte…         20 Female        14:15                  135\n",
            "\u001b[90m# ℹ 1 more variable: rank <int>\u001b[39m\n",
            "\n",
            "Fastest 3 runners, Genderfluid :\n",
            "\u001b[90m# A tibble: 3 × 7\u001b[39m\n",
            "  runner_bib runner_name   runner_age runner_gender finish_time finish_minutes\n",
            "       \u001b[3m\u001b[90m<int>\u001b[39m\u001b[23m \u001b[3m\u001b[90m<chr>\u001b[39m\u001b[23m              \u001b[3m\u001b[90m<int>\u001b[39m\u001b[23m \u001b[3m\u001b[90m<chr>\u001b[39m\u001b[23m         \u001b[3m\u001b[90m<chr>\u001b[39m\u001b[23m                \u001b[3m\u001b[90m<dbl>\u001b[39m\u001b[23m\n",
            "\u001b[90m1\u001b[39m        152 Patrice Draye         18 Genderfluid   14:15                  135\n",
            "\u001b[90m2\u001b[39m        606 Nonna Restill         57 Genderfluid   14:24                  144\n",
            "\u001b[90m3\u001b[39m        421 Neysa Willatt         60 Genderfluid   14:33                  153\n",
            "\u001b[90m# ℹ 1 more variable: rank <int>\u001b[39m\n",
            "\n",
            "Fastest 3 runners, Genderqueer :\n",
            "\u001b[90m# A tibble: 3 × 7\u001b[39m\n",
            "  runner_bib runner_name     runner_age runner_gender finish_time finish_minutes\n",
            "       \u001b[3m\u001b[90m<int>\u001b[39m\u001b[23m \u001b[3m\u001b[90m<chr>\u001b[39m\u001b[23m                \u001b[3m\u001b[90m<int>\u001b[39m\u001b[23m \u001b[3m\u001b[90m<chr>\u001b[39m\u001b[23m         \u001b[3m\u001b[90m<chr>\u001b[39m\u001b[23m                \u001b[3m\u001b[90m<dbl>\u001b[39m\u001b[23m\n",
            "\u001b[90m1\u001b[39m        547 Patin Dawidowi…         17 Genderqueer   15:27                  207\n",
            "\u001b[90m2\u001b[39m        527 Bobby Sykes             52 Genderqueer   15:28                  208\n",
            "\u001b[90m3\u001b[39m        590 Abigale Beedle          41 Genderqueer   15:34                  214\n",
            "\u001b[90m# ℹ 1 more variable: rank <int>\u001b[39m\n",
            "\n",
            "Fastest 3 runners, Male :\n",
            "\u001b[90m# A tibble: 3 × 7\u001b[39m\n",
            "  runner_bib runner_name     runner_age runner_gender finish_time finish_minutes\n",
            "       \u001b[3m\u001b[90m<int>\u001b[39m\u001b[23m \u001b[3m\u001b[90m<chr>\u001b[39m\u001b[23m                \u001b[3m\u001b[90m<int>\u001b[39m\u001b[23m \u001b[3m\u001b[90m<chr>\u001b[39m\u001b[23m         \u001b[3m\u001b[90m<chr>\u001b[39m\u001b[23m                \u001b[3m\u001b[90m<dbl>\u001b[39m\u001b[23m\n",
            "\u001b[90m1\u001b[39m        393 Ker Dearden             62 Male          14:15                  135\n",
            "\u001b[90m2\u001b[39m        114 Arin Maffezzoli         52 Male          14:18                  138\n",
            "\u001b[90m3\u001b[39m        325 Holt Teissier           36 Male          14:18                  138\n",
            "\u001b[90m# ℹ 1 more variable: rank <int>\u001b[39m\n",
            "\n",
            "Fastest 3 runners, Non-binary :\n",
            "\u001b[90m# A tibble: 3 × 7\u001b[39m\n",
            "  runner_bib runner_name     runner_age runner_gender finish_time finish_minutes\n",
            "       \u001b[3m\u001b[90m<int>\u001b[39m\u001b[23m \u001b[3m\u001b[90m<chr>\u001b[39m\u001b[23m                \u001b[3m\u001b[90m<int>\u001b[39m\u001b[23m \u001b[3m\u001b[90m<chr>\u001b[39m\u001b[23m         \u001b[3m\u001b[90m<chr>\u001b[39m\u001b[23m                \u001b[3m\u001b[90m<dbl>\u001b[39m\u001b[23m\n",
            "\u001b[90m1\u001b[39m        341 Gaylor Buckett          17 Non-binary    14:29                  149\n",
            "\u001b[90m2\u001b[39m         38 Mellie Merryfi…         54 Non-binary    15:03                  183\n",
            "\u001b[90m3\u001b[39m        426 Base Dukes              62 Non-binary    15:19                  199\n",
            "\u001b[90m# ℹ 1 more variable: rank <int>\u001b[39m\n",
            "\n",
            "Fastest 3 runners, Polygender :\n",
            "\u001b[90m# A tibble: 3 × 7\u001b[39m\n",
            "  runner_bib runner_name     runner_age runner_gender finish_time finish_minutes\n",
            "       \u001b[3m\u001b[90m<int>\u001b[39m\u001b[23m \u001b[3m\u001b[90m<chr>\u001b[39m\u001b[23m                \u001b[3m\u001b[90m<int>\u001b[39m\u001b[23m \u001b[3m\u001b[90m<chr>\u001b[39m\u001b[23m         \u001b[3m\u001b[90m<chr>\u001b[39m\u001b[23m                \u001b[3m\u001b[90m<dbl>\u001b[39m\u001b[23m\n",
            "\u001b[90m1\u001b[39m        283 Karyl Pyne              38 Polygender    14:21                  141\n",
            "\u001b[90m2\u001b[39m        356 Alair Blyde             42 Polygender    14:27                  147\n",
            "\u001b[90m3\u001b[39m        578 Dagmar Bedburr…         47 Polygender    14:49                  169\n",
            "\u001b[90m# ℹ 1 more variable: rank <int>\u001b[39m\n",
            "\n"
          ]
        }
      ]
    },
    {
      "cell_type": "markdown",
      "source": [
        "## 6. Plot the Data (3 pts)"
      ],
      "metadata": {
        "id": "2B9dxJbno0s0"
      }
    },
    {
      "cell_type": "markdown",
      "source": [
        "Finally, using `ggplot2` create two plots of the data -- density plots of race finishers.\n",
        "\n",
        "- In the first plot use `finish_minutes` as the x axis.\n",
        "- In the second plot use `runner_age` as the x axis.\n",
        "- Use `runner_gender` as the fill.\n",
        "- We suggest using a `geom_density(alpha=0.2)` or therabouts to see layers through one another.\n",
        "- Use the `gridExtra` library's `grid.arrange()` method to plot them both.\n",
        "\n",
        "You will note that since this is artificial data you will be able to see the gender layers clearly enough but they will not be statistically meaningful."
      ],
      "metadata": {
        "id": "LwMrL6-AplCH"
      }
    },
    {
      "cell_type": "code",
      "source": [
        "#\n",
        "dataset_2$finish_minutes = as.numeric(dataset_2$finish_minutes)\n",
        "\n",
        "# First plot (finish_minutes as the x axis)\n",
        "plot_1 = ggplot(dataset_2, aes(x = finish_minutes, fill = runner_gender)) +\n",
        "  geom_density(alpha = 0.2) +\n",
        "  labs(title = \"Plot 1\", x = \"Finishing Time (Minutes)\") +\n",
        "  theme(aspect.ratio = 0.75) # the theme() is just to make the x-axis look less crowded\n",
        "\n",
        "# Second plot (runner_age as the x axis)\n",
        "plot_2 = ggplot(dataset_2, aes(x = runner_age, fill = runner_gender)) +\n",
        "  geom_density(alpha = 0.2) +\n",
        "  labs(title = \"Plot 2\", x = \"Age\") +\n",
        "  theme(aspect.ratio = 0.75)\n",
        "\n",
        "grid.arrange(plot_1, plot_2, ncol = 2)"
      ],
      "metadata": {
        "id": "9vDIw9YeERNx",
        "colab": {
          "base_uri": "https://localhost:8080/",
          "height": 437
        },
        "outputId": "dbf6d0f1-011a-4397-c660-bed07c417211"
      },
      "execution_count": 7,
      "outputs": [
        {
          "output_type": "display_data",
          "data": {
            "text/plain": [
              "plot without title"
            ],
            "image/png": "[encoded data removed]"
          },
          "metadata": {
            "image/png": {
              "width": 420,
              "height": 420
            }
          }
        }
      ]
    }
  ]
}