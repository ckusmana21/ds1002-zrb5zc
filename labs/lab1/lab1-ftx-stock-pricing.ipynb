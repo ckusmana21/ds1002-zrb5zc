{
  "nbformat": 4,
  "nbformat_minor": 0,
  "metadata": {
    "colab": {
      "provenance": [],
      "include_colab_link": true
    },
    "kernelspec": {
      "name": "python3",
      "display_name": "Python 3"
    },
    "language_info": {
      "name": "python"
    }
  },
  "cells": [
    {
      "cell_type": "markdown",
      "metadata": {
        "id": "view-in-github",
        "colab_type": "text"
      },
      "source": [
        "<a href=\"https://colab.research.google.com/github/ckusmana21/ds1002-zrb5zc/blob/main/labs/lab1/lab1-ftx-stock-pricing.ipynb\" target=\"_parent\"><img src=\"https://colab.research.google.com/assets/colab-badge.svg\" alt=\"Open In Colab\"/></a>"
      ]
    },
    {
      "cell_type": "markdown",
      "source": [
        "# DS1002 Lab 1: Python\n",
        "\n",
        "In this lab you will work with a dataset, writing python to generate the deliverables specified in the cells below.\n",
        "\n",
        "> **FTX** was a cryptocurrency exchange founded by Sam Bankman-Fried that saw both a spectacular rise and collapse between 2021 and 2022. At one point it had a valuation of $32B. Bankman-Fried was recently found guilty on seven counts of fraud and conspiracy.\n",
        "\n",
        "The dataset for this assignment covers that rise and fall from the viewpoint of daily stock closing prices for FTX (ticker symbol `FTT`).\n",
        "\n",
        "Answer the questions below with the appropriate Python code. Point assignments are indicated for each section. There are 15 total points possible for this lab, which counts as 5% of your overall grade. There is a 1-point extra credit option at the end.\n",
        "\n",
        "Useful reference material:\n",
        "- [Pandas Review](https://colab.research.google.com/github/nmagee/ds1002/blob/main/notebooks/pandas-review.ipynb) notebook.\n",
        "- [Charts Reference](https://colab.research.google.com/github/nmagee/ds1002/blob/main/notebooks/charts-in-colaboratory.ipynb) notebook.\n",
        "- [Plots Walkthrough](https://colab.research.google.com/github/nmagee/ds1002/blob/main/notebooks/plotting-examples.ipynb)"
      ],
      "metadata": {
        "id": "2yEePrJ-1G1Z"
      }
    },
    {
      "cell_type": "markdown",
      "source": [
        "## Group Submissions\n",
        "\n",
        "If you are working in a group to complete this lab, you may have no more than 3 members to a group. Group members should be indicated in the cell below -- list both names and UVA computing IDs.\n",
        "\n",
        "Each student should then submit **the same URL** for the lab in Canvas. (If a group has Member1, Member2, and Member3, only one member needs to save the completed work back to GitHub and all members should submit that URL for grading.)"
      ],
      "metadata": {
        "id": "acXFkytd2PWS"
      }
    },
    {
      "cell_type": "code",
      "source": [
        "# List group members (if applicable). Identify names and computing IDs\n",
        "#\n",
        "# Name                    Computing ID"
      ],
      "metadata": {
        "id": "4N8_o3tG232h"
      },
      "execution_count": null,
      "outputs": []
    },
    {
      "cell_type": "markdown",
      "source": [
        "## 1. Load Libraries & Data (3 pts)\n",
        "\n",
        "https://s3.amazonaws.com/ds1002-resources/data/ftx-2021-01-01--2023-12-31.csv\n",
        "\n",
        "Import any necessary libraries and load the remote CSV file below into a DataFrame. **Resolve any import issues you need to.**"
      ],
      "metadata": {
        "id": "w0VxTDNf1k2O"
      }
    },
    {
      "cell_type": "code",
      "execution_count": 74,
      "metadata": {
        "id": "I0B9chFD1GR0"
      },
      "outputs": [],
      "source": [
        "import pandas as pd\n",
        "import matplotlib.pyplot as plt\n",
        "\n",
        "dataset = pd.read_csv(\"/content/sample_data/ftx-2021-01-01--2023-12-31.csv\", delimiter=\";\")"
      ]
    },
    {
      "cell_type": "markdown",
      "source": [
        "## 2. Get Summary Data (1 pt)"
      ],
      "metadata": {
        "id": "H389W9dkobGI"
      }
    },
    {
      "cell_type": "markdown",
      "source": [
        "In code, display how many rows and columns are in the raw dataset."
      ],
      "metadata": {
        "id": "KA0wbjmE-4Q9"
      }
    },
    {
      "cell_type": "code",
      "source": [
        "print(len(dataset.columns))\n",
        "print(dataset.shape[0])"
      ],
      "metadata": {
        "id": "XhULtu7qox-p",
        "outputId": "63c91dc8-9ccc-4067-dd43-1193820c276d",
        "colab": {
          "base_uri": "https://localhost:8080/"
        }
      },
      "execution_count": 75,
      "outputs": [
        {
          "output_type": "stream",
          "name": "stdout",
          "text": [
            "11\n",
            "741\n"
          ]
        }
      ]
    },
    {
      "cell_type": "markdown",
      "source": [
        "## 3. Clean and Organize the Data (3 pts)\n",
        "\n",
        "Check for data quality.\n",
        "\n",
        "- Resolve any empty values or duplicate rows.\n",
        "- Order the data properly if necessary.\n",
        "- Drop the following columns and save the dataframe: `timeOpen`, `timeClose`, `timeHigh`, `timeLow`, `marketCap`,\n",
        "\n"
      ],
      "metadata": {
        "id": "abshX7QeooAs"
      }
    },
    {
      "cell_type": "code",
      "source": [
        "dataset = pd.read_csv(\"/content/sample_data/ftx-2021-01-01--2023-12-31.csv\", delimiter=\";\")\n",
        "\n",
        "dataset = dataset.drop_duplicates()\n",
        "\n",
        "dataset = dataset.dropna()\n",
        "\n",
        "drop = ['timeOpen', 'timeClose', 'timeHigh', 'timeLow', 'marketCap']\n",
        "dataset = dataset.drop(columns=drop)"
      ],
      "metadata": {
        "id": "Aq3J7yD82uwW"
      },
      "execution_count": 76,
      "outputs": []
    },
    {
      "cell_type": "markdown",
      "source": [
        "Now display the first 10 rows of the cleaned dataset."
      ],
      "metadata": {
        "id": "Ccwu8bUx_Azj"
      }
    },
    {
      "cell_type": "code",
      "source": [
        "print(dataset.head(10))"
      ],
      "metadata": {
        "id": "1iVIskCs_Ewe",
        "outputId": "1920bffc-d97b-4e45-c857-8e502d8145df",
        "colab": {
          "base_uri": "https://localhost:8080/"
        }
      },
      "execution_count": 77,
      "outputs": [
        {
          "output_type": "stream",
          "name": "stdout",
          "text": [
            "       open      high       low     close       volume  \\\n",
            "0  0.838968  0.853502  0.835226  0.842688   3001502.06   \n",
            "1  0.860193  0.864752  0.826643  0.839048   3608615.07   \n",
            "2  0.885723  0.887118  0.843029  0.860231   3766979.57   \n",
            "3  0.921162  0.925702  0.869842  0.886091   4192949.85   \n",
            "4  0.931138  0.955402  0.916414  0.923668   4574953.05   \n",
            "5  0.894567  1.011183  0.893652  0.930696   7065306.21   \n",
            "6  0.924432  0.935517  0.894370  0.894657   2577834.83   \n",
            "7  0.957505  0.975671  0.921085  0.924433   5055004.16   \n",
            "8  1.027133  1.038282  0.948058  0.957006  17088962.94   \n",
            "9  0.873973  1.127198  0.835625  1.027162  22418556.51   \n",
            "\n",
            "                  timestamp  \n",
            "0  2022-12-31T23:59:59.999Z  \n",
            "1  2022-12-30T23:59:59.999Z  \n",
            "2  2022-12-29T23:59:59.999Z  \n",
            "3  2022-12-28T23:59:59.999Z  \n",
            "4  2022-12-27T23:59:59.999Z  \n",
            "5  2022-12-26T23:59:59.999Z  \n",
            "6  2022-12-25T23:59:59.999Z  \n",
            "7  2022-12-24T23:59:59.999Z  \n",
            "8  2022-12-23T23:59:59.999Z  \n",
            "9  2022-12-22T23:59:59.999Z  \n"
          ]
        }
      ]
    },
    {
      "cell_type": "markdown",
      "source": [
        "## 4. Calculate Daily Gains/Losses (2 pts)"
      ],
      "metadata": {
        "id": "3-4dd8nsr_zF"
      }
    },
    {
      "cell_type": "markdown",
      "source": [
        "Using Pandas, add a new column named `[\"close_change\"]` to the dataframe that calculates the difference between daily closing prices for FTX. This will result in positive (growth) and negative (loss) values.\n",
        "\n",
        "Note:\n",
        "- Be careful about how you calculate this. Each row should calculate that difference from the row above it, which must be the previous calendar day.\n",
        "- Reference code for this is available in the [Pandas Review](https://colab.research.google.com/github/nmagee/ds1002/blob/main/notebooks/pandas-review.ipynb) notebook. Hint: It is not complicated and does not require a for-loop."
      ],
      "metadata": {
        "id": "HrGLlM83vH0c"
      }
    },
    {
      "cell_type": "code",
      "source": [
        "dataset['close_change'] = dataset['close'] - dataset['close'].shift(1)"
      ],
      "metadata": {
        "id": "7P8J0jEtvCiv"
      },
      "execution_count": 78,
      "outputs": []
    },
    {
      "cell_type": "markdown",
      "source": [
        "## 5. Identify Growth Days (1 pt)"
      ],
      "metadata": {
        "id": "KKg8d9RDyeDa"
      }
    },
    {
      "cell_type": "markdown",
      "source": [
        "Based on the daily change in closing prices calculated above, identify the top 10 days of positive growth for FTX.\n",
        "\n",
        "Display your results in a table showing both the rate of change and their dates."
      ],
      "metadata": {
        "id": "5kKBo3_sykGD"
      }
    },
    {
      "cell_type": "code",
      "source": [
        "positive_growth = dataset.nlargest(10, 'close_change')\n",
        "print(positive_growth[['close_change','timestamp']])"
      ],
      "metadata": {
        "id": "xRlliRMY2_-c",
        "outputId": "4e32c711-8542-472e-a303-ed2f198912fa",
        "colab": {
          "base_uri": "https://localhost:8080/"
        }
      },
      "execution_count": 79,
      "outputs": [
        {
          "output_type": "stream",
          "name": "stdout",
          "text": [
            "     close_change                 timestamp\n",
            "56      16.623292  2022-11-07T23:59:59.999Z\n",
            "468     14.497738  2021-09-16T23:59:59.999Z\n",
            "598     14.017812  2021-05-18T23:59:59.999Z\n",
            "478      9.506381  2021-09-15T23:59:59.999Z\n",
            "473      8.315742  2021-09-19T23:59:59.999Z\n",
            "484      6.929033  2021-09-09T23:59:59.999Z\n",
            "350      6.770635  2022-01-20T23:59:59.999Z\n",
            "594      6.228516  2021-05-22T23:59:59.999Z\n",
            "481      5.201864  2021-09-12T23:59:59.999Z\n",
            "605      5.154806  2021-05-11T23:59:59.999Z\n"
          ]
        }
      ]
    },
    {
      "cell_type": "markdown",
      "source": [
        "## 6. Calculate the % Rate of Change (2 pts)"
      ],
      "metadata": {
        "id": "Y3AmR3eDxgfb"
      }
    },
    {
      "cell_type": "markdown",
      "source": [
        "Next, create a new column named `[\"rate_of_change\"]` based on `[\"close_change\"]`.\n",
        "\n",
        "Use the Pandas Review notebook for reference. Again, this is an easy operation in Pandas and does not require a for-loop."
      ],
      "metadata": {
        "id": "XK3yweENxjdn"
      }
    },
    {
      "cell_type": "code",
      "source": [
        "dataset['rate_of_change'] = dataset['close_change'].pct_change()"
      ],
      "metadata": {
        "id": "FqL5yyvi6w7r"
      },
      "execution_count": 80,
      "outputs": []
    },
    {
      "cell_type": "markdown",
      "source": [
        "## 7. Identify Greatest % Change Days (1 pt)"
      ],
      "metadata": {
        "id": "2ifRW8qU3OOB"
      }
    },
    {
      "cell_type": "markdown",
      "source": [
        "Based on the rate change column calculated above, identify the top 5 days of greatest rate changes, whether positive or negative.\n",
        "\n",
        "Display your results in a table showing both the rate of change and their dates."
      ],
      "metadata": {
        "id": "ISZf2C1j3bAA"
      }
    },
    {
      "cell_type": "markdown",
      "source": [
        "## 8. Plot the Data (2 pts)"
      ],
      "metadata": {
        "id": "2B9dxJbno0s0"
      }
    },
    {
      "cell_type": "markdown",
      "source": [
        "Finally, create two separate plots of the data -- one for the daily closing price and one for the daily gains/losses. These can be histograms or line plots."
      ],
      "metadata": {
        "id": "LwMrL6-AplCH"
      }
    },
    {
      "cell_type": "code",
      "source": [
        "# FOR NUMBER 7 (there is no space for the code, so I am running it here.)\n",
        "greatest_rate_changes = pd.concat([dataset.nlargest(5, 'rate_of_change'), dataset.nsmallest(5, 'rate_of_change')])\n",
        "print(greatest_rate_changes[['timestamp', 'rate_of_change']])\n",
        "\n",
        "# NUMBER 8 (plotting the data)\n",
        "import matplotlib.pyplot as plt\n",
        "\n",
        "plt.subplot(2, 1, 1)\n",
        "plt.plot(dataset['timestamp'], dataset['close_change'])\n",
        "plt.title('Daily Closing Price')\n",
        "plt.xlabel('Date')\n",
        "plt.ylabel('Closing Price')\n",
        "plt.show()\n",
        "\n",
        "plt.bar(dataset['timestamp'], dataset['rate_of_change'])\n",
        "plt.title('Daily Gains/Losses')\n",
        "plt.xlabel('Date')\n",
        "plt.ylabel('Percent')\n",
        "plt.show()"
      ],
      "metadata": {
        "id": "R0vq1cLRB0Kl",
        "outputId": "da4d4720-8851-41eb-bf1e-966fef8161c4",
        "colab": {
          "base_uri": "https://localhost:8080/",
          "height": 916
        }
      },
      "execution_count": 81,
      "outputs": [
        {
          "output_type": "stream",
          "name": "stdout",
          "text": [
            "                    timestamp  rate_of_change\n",
            "110  2022-09-14T23:59:59.999Z      273.028254\n",
            "516  2021-08-08T23:59:59.999Z      216.674634\n",
            "182  2022-07-06T23:59:59.999Z      178.229185\n",
            "369  2021-12-31T23:59:59.999Z       97.180950\n",
            "216  2022-06-02T23:59:59.999Z       58.778546\n",
            "135  2022-08-20T23:59:59.999Z    -1146.635171\n",
            "240  2022-05-10T23:59:59.999Z     -370.048919\n",
            "446  2021-10-15T23:59:59.999Z     -166.691725\n",
            "193  2022-06-25T23:59:59.999Z      -83.605800\n",
            "306  2022-03-05T23:59:59.999Z      -79.028500\n"
          ]
        },
        {
          "output_type": "display_data",
          "data": {
            "text/plain": [
              "<Figure size 640x480 with 1 Axes>"
            ],
            "image/png": "[encoded data removed]"
          },
          "metadata": {}
        },
        {
          "output_type": "display_data",
          "data": {
            "text/plain": [
              "<Figure size 640x480 with 1 Axes>"
            ],
            "image/png": "[encoded data removed]"
          },
          "metadata": {}
        }
      ]
    },
    {
      "cell_type": "markdown",
      "source": [
        "## BONUS! (1 pt)"
      ],
      "metadata": {
        "id": "5veEUQsk5qYq"
      }
    },
    {
      "cell_type": "markdown",
      "source": [
        "Combine the two plots from #8 above into a single plot, displaying both together. Your plot should have two Y-axis scales, should differentiate the two values by color, and should include a legend."
      ],
      "metadata": {
        "id": "xRT2iFAI5s4S"
      }
    },
    {
      "cell_type": "code",
      "source": [
        "color = 'tab:red'\n",
        "ax1.set_xlabel('Date')\n",
        "ax1.set_ylabel('Closing Price', color=color)\n",
        "ax1.plot(dataset['timestamp'], dataset['close_change'], color=color, label='Closing Price')\n",
        "ax1.tick_params(axis='y', labelcolor=color)\n",
        "\n",
        "ax2 = ax1.twinx()\n",
        "color = 'tab:blue'\n",
        "ax2.set_ylabel('Percent', color=color)\n",
        "ax2.bar(dataset['timestamp'], dataset['rate_of_change'], color=color, alpha=0.5, label='Percent')\n",
        "ax2.tick_params(axis='y', labelcolor=color)\n",
        "\n",
        "plt.title('Plot of Daily Closing Price + Gains/Losses')\n",
        "plt.show()"
      ],
      "metadata": {
        "id": "epypcCLc6QxL",
        "outputId": "9130e187-342b-4689-cb44-1a462981d537",
        "colab": {
          "base_uri": "https://localhost:8080/",
          "height": 452
        }
      },
      "execution_count": 73,
      "outputs": [
        {
          "output_type": "display_data",
          "data": {
            "text/plain": [
              "<Figure size 640x480 with 1 Axes>"
            ],
            "image/png": "[encoded data removed]"
          },
          "metadata": {}
        }
      ]
    }
  ]
}