{
  "nbformat": 4,
  "nbformat_minor": 0,
  "metadata": {
    "colab": {
      "provenance": [],
      "include_colab_link": true
    },
    "kernelspec": {
      "name": "python3",
      "display_name": "Python 3"
    },
    "language_info": {
      "name": "python"
    }
  },
  "cells": [
    {
      "cell_type": "markdown",
      "metadata": {
        "id": "view-in-github",
        "colab_type": "text"
      },
      "source": [
        "<a href=\"https://colab.research.google.com/github/ckusmana21/ds1002-zrb5zc/blob/main/homework/week-9.ipynb\" target=\"_parent\"><img src=\"https://colab.research.google.com/assets/colab-badge.svg\" alt=\"Open In Colab\"/></a>"
      ]
    },
    {
      "cell_type": "markdown",
      "source": [
        "# Homework - Week 9\n",
        "\n",
        "Complete the following blocks as specified in the directions. Run each cell to return the desired output. Save your notebook back to your GitHub repository and submit the GitHub URL to your notebook for review."
      ],
      "metadata": {
        "id": "phbaQTT5gy8A"
      }
    },
    {
      "cell_type": "markdown",
      "source": [
        "## Functions\n",
        "\n",
        "In the cell below define a function that takes one parameter (in the form of a list) called `names` and returns a simple greeting for each name, such as\n",
        "\n",
        "    \"Hello Natasha, it's so nice to meet you\"\n",
        "    \"Hello Sid, it's so nice to meet you\"\n",
        "\n",
        "Define the function and run it, and in another cell below call the function populated with a var of a list of names."
      ],
      "metadata": {
        "id": "38Pg39pMrDua"
      }
    },
    {
      "cell_type": "code",
      "source": [
        "#\n",
        "def greetings_var(names):\n",
        "    greetings = []\n",
        "    for name in names:\n",
        "        greeting = f\"Hello {name}, it's so nice to meet you\"\n",
        "        greetings.append(greeting)\n",
        "    return greetings"
      ],
      "metadata": {
        "id": "kdFLCHtOg53p"
      },
      "execution_count": 28,
      "outputs": []
    },
    {
      "cell_type": "code",
      "source": [
        "#\n",
        "names = [\"Natasha\", \"Sid\"]\n",
        "greetings = greetings_var(names)\n",
        "\n",
        "for greeting in greetings:\n",
        "    print(greeting)"
      ],
      "metadata": {
        "id": "JlNPe_XUsmog",
        "outputId": "4d209692-f7bb-4554-a8b8-e0fb251f633c",
        "colab": {
          "base_uri": "https://localhost:8080/"
        }
      },
      "execution_count": 29,
      "outputs": [
        {
          "output_type": "stream",
          "name": "stdout",
          "text": [
            "Hello Natasha, it's so nice to meet you\n",
            "Hello Sid, it's so nice to meet you\n"
          ]
        }
      ]
    },
    {
      "cell_type": "markdown",
      "source": [
        "Using the following list, pass it into a function you define that will evaluate the list and return a count of how many items is in it. Be creative.\n",
        "\n",
        "```\n",
        "mylist = [\"Toronto\",\"Buffalo\",\"Syracuse\",\"Albany\",\"Schenectady\",\"Brooklyn\",\"Rome\",\"Ithaca\"]\n",
        "```"
      ],
      "metadata": {
        "id": "mXqNACpkrdUZ"
      }
    },
    {
      "cell_type": "code",
      "source": [
        "#\n",
        "import random\n",
        "\n",
        "def count_items_in_list(mylist):\n",
        "    count = len(mylist)\n",
        "\n",
        "    comments = [\n",
        "        \"in my list.\",\n",
        "    ]\n",
        "\n",
        "    if count == 0:\n",
        "        comment = \"N/A\"\n",
        "    elif count == 1:\n",
        "        comment = \"One destination\"\n",
        "    else:\n",
        "        comment = random.choice(comments)\n",
        "\n",
        "    return f\"{count} destinations {comment}\"\n",
        "\n",
        "mylist = [\"Toronto\", \"Buffalo\", \"Syracuse\", \"Albany\", \"Schenectady\", \"Brooklyn\", \"Rome\", \"Ithaca\"]\n",
        "result = count_items_in_list(mylist)\n",
        "print(result)"
      ],
      "metadata": {
        "id": "mvxOzRSisg0a",
        "outputId": "1f638f29-1d19-407e-800f-b68f60b36d76",
        "colab": {
          "base_uri": "https://localhost:8080/"
        }
      },
      "execution_count": 4,
      "outputs": [
        {
          "output_type": "stream",
          "name": "stdout",
          "text": [
            "8 destinations in my list.\n"
          ]
        }
      ]
    },
    {
      "cell_type": "markdown",
      "source": [
        "## Input Validation\n",
        "\n",
        "Write a function below that defines two input parameters as `bool` and returns a `bool`.\n",
        "In the cell below that, populate two variables with two different bools (True and False)\n",
        "and pass them into a call of your function."
      ],
      "metadata": {
        "id": "YU7FXSCXsFab"
      }
    },
    {
      "cell_type": "code",
      "source": [
        "#\n",
        "def boolean(param1, param2):\n",
        "    result = param1 and param2\n",
        "    return result\n",
        "\n",
        "bool_var1 = True\n",
        "bool_var2 = False\n",
        "result = boolean(bool_var1, bool_var2)\n",
        "print(\"Result:\", result)\n"
      ],
      "metadata": {
        "id": "DGMJZjlysfHU",
        "outputId": "751e211e-ed87-4e7d-c14e-58801cd1b530",
        "colab": {
          "base_uri": "https://localhost:8080/"
        }
      },
      "execution_count": 9,
      "outputs": [
        {
          "output_type": "stream",
          "name": "stdout",
          "text": [
            "Result: False\n"
          ]
        }
      ]
    },
    {
      "cell_type": "markdown",
      "source": [
        "## Global Variables\n",
        "\n",
        "Define a global variable and populate it with a data type (int, str, bool, float, etc.)"
      ],
      "metadata": {
        "id": "xXZTr5fdsd5M"
      }
    },
    {
      "cell_type": "code",
      "source": [
        "#\n",
        "integer = 66\n",
        "string = \"String\"\n",
        "boolean = True\n",
        "float = 6.6\n",
        "\n",
        "print(\"Integer:\", integer)\n",
        "print(\"String:\", string)\n",
        "print(\"Boolean:\", boolean)\n",
        "print(\"Float:\", float)"
      ],
      "metadata": {
        "id": "HN8CFLVRs6_L",
        "outputId": "74fc0ea6-dde7-4f42-caeb-057732e1969b",
        "colab": {
          "base_uri": "https://localhost:8080/"
        }
      },
      "execution_count": 11,
      "outputs": [
        {
          "output_type": "stream",
          "name": "stdout",
          "text": [
            "Integer: 66\n",
            "String: String\n",
            "Boolean: True\n",
            "Float: 6.6\n"
          ]
        }
      ]
    },
    {
      "cell_type": "markdown",
      "source": [
        "Now create a function that prints out the global variable. Call the\n",
        "\n",
        "1.   List item\n",
        "2.   List item\n",
        "\n",
        "function and display the value of the var."
      ],
      "metadata": {
        "id": "G1Auc6l1s8F6"
      }
    },
    {
      "cell_type": "code",
      "source": [
        "#\n",
        "integer = 66\n",
        "string = \"String\"\n",
        "boolean = True\n",
        "float = 6.6\n",
        "\n",
        "def print_global(var):\n",
        "    if var in globals():\n",
        "        var = globals()[var]\n",
        "        print(f\"{var}:\", var)\n",
        "    else:\n",
        "        print(f\"{var} is not a global variable.\")\n",
        "\n",
        "print_global(\"integer\")\n",
        "print_global(\"string\")\n",
        "print_global(\"boolean\")\n",
        "print_global(\"float\")"
      ],
      "metadata": {
        "id": "Q6O0Ep_wtBWJ",
        "outputId": "9c2800ac-79ec-49f3-8543-869c10c7ddfe",
        "colab": {
          "base_uri": "https://localhost:8080/"
        }
      },
      "execution_count": 17,
      "outputs": [
        {
          "output_type": "stream",
          "name": "stdout",
          "text": [
            "66: 66\n",
            "String: String\n",
            "True: True\n",
            "6.6: 6.6\n"
          ]
        }
      ]
    },
    {
      "cell_type": "markdown",
      "source": [
        "Now create a function that creates its own global var and populates it.\n",
        "\n",
        "> Indented block\n",
        "\n",
        "\n",
        "Call the function and then print out the global var from outside of the function."
      ],
      "metadata": {
        "id": "IN2TRQI8tCC4"
      }
    },
    {
      "cell_type": "code",
      "source": [
        "#\n",
        "def global_var():\n",
        "    global new_global_var\n",
        "    new_global_var = \"New global variable\"\n",
        "\n",
        "global_var()\n",
        "\n",
        "print(\"New global variable:\", new_global_var)\n"
      ],
      "metadata": {
        "id": "Oz4rnmfTtKen",
        "outputId": "aaa8bdc9-e8b0-4885-b7f4-0aff4e04fc8c",
        "colab": {
          "base_uri": "https://localhost:8080/"
        }
      },
      "execution_count": 22,
      "outputs": [
        {
          "output_type": "stream",
          "name": "stdout",
          "text": [
            "New global variable: New global variable\n"
          ]
        }
      ]
    },
    {
      "cell_type": "markdown",
      "source": [
        "Finally, write a function that updates the value of the global var you defined 3 cells above.\n",
        "\n",
        "1. Within the function, print out the global var you defined 3 cells above.\n",
        "2. Update the global var to have a new value.\n",
        "3. Within the function, print the new value of the global var.\n",
        "\n",
        "Call the function and once more print out the value of the global var from outside of the function."
      ],
      "metadata": {
        "id": "jv0dtym0tLZn"
      }
    },
    {
      "cell_type": "code",
      "source": [
        "#\n",
        "global_var = \"value\"\n",
        "\n",
        "def updated_var():\n",
        "    global global_var\n",
        "    print(\"Current Global Value (within the function):\", global_var)\n",
        "    global_variable = \"New Global Value\"\n",
        "    print(\"1) Within the function, the global var is:\", global_var)\n",
        "\n",
        "print(\"2) Update the global var to have a new value.:\", global_var)\n",
        "\n",
        "updated_var()\n",
        "\n",
        "print(\"3) Within the function, print the new value of the global var:\", global_var)"
      ],
      "metadata": {
        "id": "pnX-hfKouLcG",
        "outputId": "4d6ba7a7-b90e-4430-bd8b-4c732d69124d",
        "colab": {
          "base_uri": "https://localhost:8080/"
        }
      },
      "execution_count": 25,
      "outputs": [
        {
          "output_type": "stream",
          "name": "stdout",
          "text": [
            "2) Update the global var to have a new value.: value\n",
            "Current Global Value (within the function): value\n",
            "1) Within the function, the global var is: value\n",
            "3) Within the function, print the new value of the global var: value\n"
          ]
        }
      ]
    }
  ]
}