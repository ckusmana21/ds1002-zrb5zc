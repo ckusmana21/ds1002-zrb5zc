{
  "nbformat": 4,
  "nbformat_minor": 0,
  "metadata": {
    "colab": {
      "provenance": [],
      "include_colab_link": true
    },
    "kernelspec": {
      "name": "python3",
      "display_name": "Python 3"
    },
    "language_info": {
      "name": "python"
    }
  },
  "cells": [
    {
      "cell_type": "markdown",
      "metadata": {
        "id": "view-in-github",
        "colab_type": "text"
      },
      "source": [
        "<a href=\"https://colab.research.google.com/github/ckusmana21/ds1002-zrb5zc/blob/main/homework/week-7.ipynb\" target=\"_parent\"><img src=\"https://colab.research.google.com/assets/colab-badge.svg\" alt=\"Open In Colab\"/></a>"
      ]
    },
    {
      "cell_type": "markdown",
      "source": [
        "# Homework - Week 7\n",
        "\n",
        "Complete the following blocks as specified in the directions. Run each cell to return the desired output. Save your notebook back to your GitHub repository and submit the GitHub URL for your notebook for review.\n",
        "\n",
        "Load the following dataset into pandas and perform the requested operations in code.\n",
        "\n",
        "Source: https://ds1002-resources.s3.amazonaws.com/data/ride_sharing.csv"
      ],
      "metadata": {
        "id": "phbaQTT5gy8A"
      }
    },
    {
      "cell_type": "code",
      "source": [
        "# Load pandas and the data\n",
        "import pandas as pd\n",
        "dataset = pd.read_csv(\"/content/sample_data/ride_sharing.csv\")"
      ],
      "metadata": {
        "id": "kdFLCHtOg53p"
      },
      "execution_count": 1,
      "outputs": []
    },
    {
      "cell_type": "code",
      "source": [
        "# show how many rows and columns are in this dataset\n",
        "print(len(dataset.columns))\n",
        "print(dataset.shape[0])"
      ],
      "metadata": {
        "id": "Lfh8suAyhKQW",
        "colab": {
          "base_uri": "https://localhost:8080/"
        },
        "outputId": "f413bbce-9af4-43f5-9602-f3721e5f00df"
      },
      "execution_count": 2,
      "outputs": [
        {
          "output_type": "stream",
          "name": "stdout",
          "text": [
            "10\n",
            "25760\n"
          ]
        }
      ]
    },
    {
      "cell_type": "code",
      "source": [
        "# The first column, \"duration\" is seen as a string.\n",
        "# Using two snippets of code, clean this column up so that\n",
        "# is now an integer (int64)\n",
        "dataset['duration'] = dataset['duration'].str.extract('(\\d+)').astype(int)\n",
        "dataset['duration'] = dataset['duration'].astype(int)"
      ],
      "metadata": {
        "id": "KK5-y9nzhMVq"
      },
      "execution_count": 6,
      "outputs": []
    },
    {
      "cell_type": "code",
      "source": [
        "# Now display the datatypes in the updated dataframe\n",
        "print(dataset.dtypes)\n"
      ],
      "metadata": {
        "id": "QyGJUshvhz1J",
        "colab": {
          "base_uri": "https://localhost:8080/"
        },
        "outputId": "a8bcd86c-a902-40d5-ea95-e519a9a226f0"
      },
      "execution_count": 7,
      "outputs": [
        {
          "output_type": "stream",
          "name": "stdout",
          "text": [
            "duration            int64\n",
            "station_A_id        int64\n",
            "station_A_name     object\n",
            "station_B_id        int64\n",
            "station_B_name     object\n",
            "bike_id             int64\n",
            "user_type           int64\n",
            "user_birth_year     int64\n",
            "user_gender        object\n",
            "tire_size           int64\n",
            "dtype: object\n"
          ]
        }
      ]
    },
    {
      "cell_type": "code",
      "source": [
        "# Show the min and max values of ride durations (the shortest and longest rides)\n",
        "# Hint: If 'df' is the name of your dataframe, simply specify the column name\n",
        "# and then append the .min() or .max() methods.\n",
        "print(dataset['duration'].min())\n",
        "print(dataset['duration'].max())"
      ],
      "metadata": {
        "id": "UCA1OswWh5b5",
        "colab": {
          "base_uri": "https://localhost:8080/"
        },
        "outputId": "6d4b8d21-0b45-4149-b719-ba6026dbf01b"
      },
      "execution_count": 9,
      "outputs": [
        {
          "output_type": "stream",
          "name": "stdout",
          "text": [
            "1\n",
            "1372\n"
          ]
        }
      ]
    },
    {
      "cell_type": "code",
      "source": [
        "# Create a new dataframe object and populate it with rides that are 60 minutes or less.\n",
        "# Hint: Use the .query() method for the dataframe that we used in class.\n",
        "new_dataframe = dataset.query('duration <= 60')"
      ],
      "metadata": {
        "id": "K7mStv5kibbA"
      },
      "execution_count": 10,
      "outputs": []
    },
    {
      "cell_type": "code",
      "source": [
        "# Now show both the min and max values of the duration column for your new dataset.\n",
        "print(new_dataframe['duration'].min())\n",
        "print(new_dataframe['duration'].max())"
      ],
      "metadata": {
        "id": "v63UdQjNi-w5",
        "colab": {
          "base_uri": "https://localhost:8080/"
        },
        "outputId": "37bab6be-4cca-44b3-befb-d22a6d8772fb"
      },
      "execution_count": 12,
      "outputs": [
        {
          "output_type": "stream",
          "name": "stdout",
          "text": [
            "1\n",
            "60\n"
          ]
        }
      ]
    },
    {
      "cell_type": "code",
      "source": [
        "# Using the new dataframe, update it so that is ONLY has records where\n",
        "# the tire_size is 26.\n",
        "new_dataframe = new_dataframe.query('tire_size == 26')"
      ],
      "metadata": {
        "id": "xTzb_j9rjGk2"
      },
      "execution_count": 14,
      "outputs": []
    },
    {
      "cell_type": "code",
      "source": [
        "# Finally, produce a count of all records with FEMALE riders\n",
        "# using the 26-inch wheeled rental bikes for their rentals of\n",
        "# one hour or less.\n",
        "print(new_dataframe.query('user_gender == \"FEMALE\" and duration <= 60').shape[0])"
      ],
      "metadata": {
        "id": "0cwbfj66jrG9",
        "colab": {
          "base_uri": "https://localhost:8080/"
        },
        "outputId": "23925990-10ef-4d35-cd5c-08045d3e28e1"
      },
      "execution_count": 19,
      "outputs": [
        {
          "output_type": "stream",
          "name": "stdout",
          "text": [
            "0\n"
          ]
        }
      ]
    }
  ]
}