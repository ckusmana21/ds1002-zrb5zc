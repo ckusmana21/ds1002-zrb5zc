{
  "nbformat": 4,
  "nbformat_minor": 0,
  "metadata": {
    "colab": {
      "provenance": [],
      "include_colab_link": true
    },
    "kernelspec": {
      "name": "ir",
      "display_name": "R"
    },
    "language_info": {
      "name": "R"
    }
  },
  "cells": [
    {
      "cell_type": "markdown",
      "metadata": {
        "id": "view-in-github",
        "colab_type": "text"
      },
      "source": [
        "<a href=\"https://colab.research.google.com/github/ckusmana21/ds1002-zrb5zc/blob/main/homework/week-15.ipynb\" target=\"_parent\"><img src=\"https://colab.research.google.com/assets/colab-badge.svg\" alt=\"Open In Colab\"/></a>"
      ]
    },
    {
      "cell_type": "markdown",
      "source": [
        "# Homework - Week 15\n",
        "\n",
        "Complete the following blocks as specified in the directions. Run each cell to return the desired output. Save your notebook back to your GitHub repository and submit the GitHub URL to your notebook for review."
      ],
      "metadata": {
        "id": "sZruw3XQogej"
      }
    },
    {
      "cell_type": "markdown",
      "source": [
        "## 1. Create Functions (4 pts)\n",
        "\n",
        "Create two functions in the cells below, according to the prompts given."
      ],
      "metadata": {
        "id": "lkaofBQypx1X"
      }
    },
    {
      "cell_type": "code",
      "source": [
        "# create a function in R that:\n",
        "#   1. takes a single integer as an input parameter\n",
        "#   2. determines whether the integer is even or odd\n",
        "#   3. returns a character statement \"The integer <x> is even\" or \"The integer <x> is odd\" (replace <x> with the actual input provided)\n",
        "#\n",
        "# then execute the function twice using two different input values, displaying even and odd results.\n",
        "\n",
        "create_function = function(x) {\n",
        "  if (x %% 2 == 0) {\n",
        "    return(paste(\"The integer\", x, \"is even\"))\n",
        "  } else {\n",
        "    return(paste(\"The integer\", x, \"is odd\"))\n",
        "  }\n",
        "}\n",
        "\n",
        "input_one = create_function(2)\n",
        "input_two = create_function(1)\n",
        "\n",
        "print(input_one)\n",
        "print(input_two)"
      ],
      "metadata": {
        "id": "1fjq5bkEp6Zv",
        "outputId": "3956e3fb-46d5-4704-b285-779fba518e25",
        "colab": {
          "base_uri": "https://localhost:8080/"
        }
      },
      "execution_count": 4,
      "outputs": [
        {
          "output_type": "stream",
          "name": "stdout",
          "text": [
            "[1] \"The integer 2 is even\"\n",
            "[1] \"The integer 1 is odd\"\n"
          ]
        }
      ]
    },
    {
      "cell_type": "code",
      "source": [
        "# create a function in R that:\n",
        "#   1. takes 4 integer input parameters\n",
        "#   2. returns the mean value of the inputs\n",
        "#   3. has default values for the 4 input parameters, in case they are not provided when the function is called.\n",
        "#\n",
        "# then execute the function twice: once where you provide the input values, and once where you do not.\n",
        "\n",
        "numbers_for_mean = function(a = 0, b = 0, c = 0, d = 0) {\n",
        "  value_mean = mean(c(a, b, c, d))\n",
        "  return(value_mean)\n",
        "}\n",
        "\n",
        "result_with_values = numbers_for_mean(5, 6, 5, 8)\n",
        "c(\"Mean with given values:\", result_with_values)\n",
        "\n",
        "default_value = numbers_for_mean()\n",
        "c(\"Mean with default values (0):\", default_value)"
      ],
      "metadata": {
        "id": "f3IFD-T6p6Rd",
        "outputId": "fcac87ac-67ee-4f01-d50c-3268c0a838bc",
        "colab": {
          "base_uri": "https://localhost:8080/",
          "height": 52
        }
      },
      "execution_count": 36,
      "outputs": [
        {
          "output_type": "display_data",
          "data": {
            "text/html": [
              "<style>\n",
              ".list-inline {list-style: none; margin:0; padding: 0}\n",
              ".list-inline>li {display: inline-block}\n",
              ".list-inline>li:not(:last-child)::after {content: \"\\00b7\"; padding: 0 .5ex}\n",
              "</style>\n",
              "<ol class=list-inline><li>'Mean with given values:'</li><li>'6'</li></ol>\n"
            ],
            "text/markdown": "1. 'Mean with given values:'\n2. '6'\n\n\n",
            "text/latex": "\\begin{enumerate*}\n\\item 'Mean with given values:'\n\\item '6'\n\\end{enumerate*}\n",
            "text/plain": [
              "[1] \"Mean with given values:\" \"6\"                      "
            ]
          },
          "metadata": {}
        },
        {
          "output_type": "display_data",
          "data": {
            "text/html": [
              "<style>\n",
              ".list-inline {list-style: none; margin:0; padding: 0}\n",
              ".list-inline>li {display: inline-block}\n",
              ".list-inline>li:not(:last-child)::after {content: \"\\00b7\"; padding: 0 .5ex}\n",
              "</style>\n",
              "<ol class=list-inline><li>'Mean with default values (0):'</li><li>'0'</li></ol>\n"
            ],
            "text/markdown": "1. 'Mean with default values (0):'\n2. '0'\n\n\n",
            "text/latex": "\\begin{enumerate*}\n\\item 'Mean with default values (0):'\n\\item '0'\n\\end{enumerate*}\n",
            "text/plain": [
              "[1] \"Mean with default values (0):\" \"0\"                            "
            ]
          },
          "metadata": {}
        }
      ]
    },
    {
      "cell_type": "markdown",
      "source": [
        "## 2. Plot Data (4 pts)"
      ],
      "metadata": {
        "id": "F6Rx0GIGrpOB"
      }
    },
    {
      "cell_type": "markdown",
      "source": [
        "In the cell below, write the code required to plot from the `msleep` sample data set.\n",
        "\n",
        "1. Display only animals with body weights of 30 or greater.\n",
        "2. Group the animals by `order`.\n",
        "3. Display the mean `sleep_total` for each group in a bar plot."
      ],
      "metadata": {
        "id": "IDLyOjOJsFCX"
      }
    },
    {
      "cell_type": "code",
      "source": [
        "#\n",
        "library(ggplot2)\n",
        "library(dplyr)\n",
        "data(msleep)\n",
        "\n",
        "bodyweight_filter = msleep %>%\n",
        "  filter(bodywt >= 30)\n",
        "\n",
        "grouping_animals = bodyweight_filter %>%\n",
        "  group_by(order) %>%\n",
        "  summarize(mean_sleep_total = mean(sleep_total))\n",
        "\n",
        "ggplot(grouped_data, aes(x = order, y = mean_sleep_total, fill = order)) +\n",
        "  geom_bar(stat = \"Identity\") +\n",
        "  labs(x = \"Order\",\n",
        "       y = \"Average of Total Sleep Hours\")"
      ],
      "metadata": {
        "id": "0D5Ia-BPsoPZ",
        "outputId": "b37d374f-5cd4-49ce-bed3-63f1cce55e90",
        "colab": {
          "base_uri": "https://localhost:8080/",
          "height": 437
        }
      },
      "execution_count": 38,
      "outputs": [
        {
          "output_type": "display_data",
          "data": {
            "text/plain": [
              "plot without title"
            ],
            "image/png": "[encoded data removed]"
          },
          "metadata": {
            "image/png": {
              "width": 420,
              "height": 420
            }
          }
        }
      ]
    },
    {
      "cell_type": "markdown",
      "source": [
        "## 3. Clean and Analyze Data Using R (4 pts)\n",
        "\n",
        "In the cells below use R to perform the following data cleaning steps on this file:\n",
        "https://raw.githubusercontent.com/nmagee/ds1002/main/data/social-media-users.csv\n",
        "\n",
        "1. Remove any duplicate rows.\n",
        "2. Remove any records where `last_login` or `birthdate` are empty.\n",
        "3. Display only the records with the 10 highest `follower` counts.\n",
        "4. Determine counts of users when grouped by continent."
      ],
      "metadata": {
        "id": "-2ZaFcCCv3o8"
      }
    },
    {
      "cell_type": "code",
      "source": [
        "# Remove any duplicate rows.\n",
        "library(tidyverse)\n",
        "\n",
        "url = \"https://raw.githubusercontent.com/nmagee/ds1002/main/data/social-media-users.csv\"\n",
        "data = read.csv(url)\n",
        "\n",
        "data_1 = data %>%\n",
        "  distinct()\n",
        "\n",
        "head(data_1, 5)\n"
      ],
      "metadata": {
        "id": "V4nBsdVsyauQ",
        "outputId": "1733a02d-0088-4ed2-de7e-d833cd5cf37c",
        "colab": {
          "base_uri": "https://localhost:8080/",
          "height": 255
        }
      },
      "execution_count": 39,
      "outputs": [
        {
          "output_type": "display_data",
          "data": {
            "text/html": [
              "<table class=\"dataframe\">\n",
              "<caption>A data.frame: 5 × 8</caption>\n",
              "<thead>\n",
              "\t<tr><th></th><th scope=col>username</th><th scope=col>full_name</th><th scope=col>birthdate</th><th scope=col>email</th><th scope=col>continent</th><th scope=col>followers</th><th scope=col>last_login</th><th scope=col>interests</th></tr>\n",
              "\t<tr><th></th><th scope=col>&lt;chr&gt;</th><th scope=col>&lt;chr&gt;</th><th scope=col>&lt;chr&gt;</th><th scope=col>&lt;chr&gt;</th><th scope=col>&lt;chr&gt;</th><th scope=col>&lt;int&gt;</th><th scope=col>&lt;chr&gt;</th><th scope=col>&lt;chr&gt;</th></tr>\n",
              "</thead>\n",
              "<tbody>\n",
              "\t<tr><th scope=row>1</th><td>ckippen0   </td><td>Clevey Kippen   </td><td>5/1/1991  </td><td>ckippen0@t-online.de  </td><td>NA</td><td>12362</td><td>5/16/2023 </td><td>music </td></tr>\n",
              "\t<tr><th scope=row>2</th><td>tgergler1  </td><td>Tedi Gergler    </td><td>10/5/1998 </td><td>tgergler1@salon.com   </td><td>NA</td><td>21360</td><td>8/20/2020 </td><td>sports</td></tr>\n",
              "\t<tr><th scope=row>3</th><td>spomfrett2 </td><td>Steffie Pomfrett</td><td>          </td><td>spomfrett2@imdb.com   </td><td>NA</td><td>19530</td><td>11/19/2022</td><td>sports</td></tr>\n",
              "\t<tr><th scope=row>4</th><td>rphettis3  </td><td>Ruddy Phettis   </td><td>6/18/1984 </td><td>rphettis3@npr.org     </td><td>EU</td><td>80047</td><td>9/20/2023 </td><td>travel</td></tr>\n",
              "\t<tr><th scope=row>5</th><td>ngilcriest4</td><td>Nico Gilcriest  </td><td>10/11/1993</td><td>ngilcriest4@dyndns.org</td><td>NA</td><td>33544</td><td>          </td><td>music </td></tr>\n",
              "</tbody>\n",
              "</table>\n"
            ],
            "text/markdown": "\nA data.frame: 5 × 8\n\n| <!--/--> | username &lt;chr&gt; | full_name &lt;chr&gt; | birthdate &lt;chr&gt; | email &lt;chr&gt; | continent &lt;chr&gt; | followers &lt;int&gt; | last_login &lt;chr&gt; | interests &lt;chr&gt; |\n|---|---|---|---|---|---|---|---|---|\n| 1 | ckippen0    | Clevey Kippen    | 5/1/1991   | ckippen0@t-online.de   | NA | 12362 | 5/16/2023  | music  |\n| 2 | tgergler1   | Tedi Gergler     | 10/5/1998  | tgergler1@salon.com    | NA | 21360 | 8/20/2020  | sports |\n| 3 | spomfrett2  | Steffie Pomfrett | <!----> | spomfrett2@imdb.com    | NA | 19530 | 11/19/2022 | sports |\n| 4 | rphettis3   | Ruddy Phettis    | 6/18/1984  | rphettis3@npr.org      | EU | 80047 | 9/20/2023  | travel |\n| 5 | ngilcriest4 | Nico Gilcriest   | 10/11/1993 | ngilcriest4@dyndns.org | NA | 33544 | <!----> | music  |\n\n",
            "text/latex": "A data.frame: 5 × 8\n\\begin{tabular}{r|llllllll}\n  & username & full\\_name & birthdate & email & continent & followers & last\\_login & interests\\\\\n  & <chr> & <chr> & <chr> & <chr> & <chr> & <int> & <chr> & <chr>\\\\\n\\hline\n\t1 & ckippen0    & Clevey Kippen    & 5/1/1991   & ckippen0@t-online.de   & NA & 12362 & 5/16/2023  & music \\\\\n\t2 & tgergler1   & Tedi Gergler     & 10/5/1998  & tgergler1@salon.com    & NA & 21360 & 8/20/2020  & sports\\\\\n\t3 & spomfrett2  & Steffie Pomfrett &            & spomfrett2@imdb.com    & NA & 19530 & 11/19/2022 & sports\\\\\n\t4 & rphettis3   & Ruddy Phettis    & 6/18/1984  & rphettis3@npr.org      & EU & 80047 & 9/20/2023  & travel\\\\\n\t5 & ngilcriest4 & Nico Gilcriest   & 10/11/1993 & ngilcriest4@dyndns.org & NA & 33544 &            & music \\\\\n\\end{tabular}\n",
            "text/plain": [
              "  username    full_name        birthdate  email                  continent\n",
              "1 ckippen0    Clevey Kippen    5/1/1991   ckippen0@t-online.de   NA       \n",
              "2 tgergler1   Tedi Gergler     10/5/1998  tgergler1@salon.com    NA       \n",
              "3 spomfrett2  Steffie Pomfrett            spomfrett2@imdb.com    NA       \n",
              "4 rphettis3   Ruddy Phettis    6/18/1984  rphettis3@npr.org      EU       \n",
              "5 ngilcriest4 Nico Gilcriest   10/11/1993 ngilcriest4@dyndns.org NA       \n",
              "  followers last_login interests\n",
              "1 12362     5/16/2023  music    \n",
              "2 21360     8/20/2020  sports   \n",
              "3 19530     11/19/2022 sports   \n",
              "4 80047     9/20/2023  travel   \n",
              "5 33544                music    "
            ]
          },
          "metadata": {}
        }
      ]
    },
    {
      "cell_type": "code",
      "source": [
        "# Remove any records where last_login or birthdate are empty.\n",
        "data_2 = data_1 %>%\n",
        "  filter(!is.na(last_login) & last_login != \"\" & !is.na(birthdate) & birthdate != \"\")\n",
        "\n",
        "head(data_2, 5)\n"
      ],
      "metadata": {
        "id": "LwXD1sNulIT3",
        "outputId": "70a46d73-1be9-412f-d46b-3517453b9433",
        "colab": {
          "base_uri": "https://localhost:8080/",
          "height": 255
        }
      },
      "execution_count": 40,
      "outputs": [
        {
          "output_type": "display_data",
          "data": {
            "text/html": [
              "<table class=\"dataframe\">\n",
              "<caption>A data.frame: 5 × 8</caption>\n",
              "<thead>\n",
              "\t<tr><th></th><th scope=col>username</th><th scope=col>full_name</th><th scope=col>birthdate</th><th scope=col>email</th><th scope=col>continent</th><th scope=col>followers</th><th scope=col>last_login</th><th scope=col>interests</th></tr>\n",
              "\t<tr><th></th><th scope=col>&lt;chr&gt;</th><th scope=col>&lt;chr&gt;</th><th scope=col>&lt;chr&gt;</th><th scope=col>&lt;chr&gt;</th><th scope=col>&lt;chr&gt;</th><th scope=col>&lt;int&gt;</th><th scope=col>&lt;chr&gt;</th><th scope=col>&lt;chr&gt;</th></tr>\n",
              "</thead>\n",
              "<tbody>\n",
              "\t<tr><th scope=row>1</th><td>ckippen0   </td><td>Clevey Kippen    </td><td>5/1/1991 </td><td>ckippen0@t-online.de     </td><td>NA</td><td>12362</td><td>5/16/2023</td><td>music </td></tr>\n",
              "\t<tr><th scope=row>2</th><td>tgergler1  </td><td>Tedi Gergler     </td><td>10/5/1998</td><td>tgergler1@salon.com      </td><td>NA</td><td>21360</td><td>8/20/2020</td><td>sports</td></tr>\n",
              "\t<tr><th scope=row>3</th><td>rphettis3  </td><td>Ruddy Phettis    </td><td>6/18/1984</td><td>rphettis3@npr.org        </td><td>EU</td><td>80047</td><td>9/20/2023</td><td>travel</td></tr>\n",
              "\t<tr><th scope=row>4</th><td>ttotman6   </td><td>Tamqrah Totman   </td><td>8/7/1986 </td><td>ttotman6@elpais.com      </td><td>AF</td><td>42669</td><td>3/10/2023</td><td>music </td></tr>\n",
              "\t<tr><th scope=row>5</th><td>kgrigoryev8</td><td>Krishna Grigoryev</td><td>5/25/1990</td><td>kgrigoryev8@quantcast.com</td><td>EU</td><td>93923</td><td>1/30/2023</td><td>travel</td></tr>\n",
              "</tbody>\n",
              "</table>\n"
            ],
            "text/markdown": "\nA data.frame: 5 × 8\n\n| <!--/--> | username &lt;chr&gt; | full_name &lt;chr&gt; | birthdate &lt;chr&gt; | email &lt;chr&gt; | continent &lt;chr&gt; | followers &lt;int&gt; | last_login &lt;chr&gt; | interests &lt;chr&gt; |\n|---|---|---|---|---|---|---|---|---|\n| 1 | ckippen0    | Clevey Kippen     | 5/1/1991  | ckippen0@t-online.de      | NA | 12362 | 5/16/2023 | music  |\n| 2 | tgergler1   | Tedi Gergler      | 10/5/1998 | tgergler1@salon.com       | NA | 21360 | 8/20/2020 | sports |\n| 3 | rphettis3   | Ruddy Phettis     | 6/18/1984 | rphettis3@npr.org         | EU | 80047 | 9/20/2023 | travel |\n| 4 | ttotman6    | Tamqrah Totman    | 8/7/1986  | ttotman6@elpais.com       | AF | 42669 | 3/10/2023 | music  |\n| 5 | kgrigoryev8 | Krishna Grigoryev | 5/25/1990 | kgrigoryev8@quantcast.com | EU | 93923 | 1/30/2023 | travel |\n\n",
            "text/latex": "A data.frame: 5 × 8\n\\begin{tabular}{r|llllllll}\n  & username & full\\_name & birthdate & email & continent & followers & last\\_login & interests\\\\\n  & <chr> & <chr> & <chr> & <chr> & <chr> & <int> & <chr> & <chr>\\\\\n\\hline\n\t1 & ckippen0    & Clevey Kippen     & 5/1/1991  & ckippen0@t-online.de      & NA & 12362 & 5/16/2023 & music \\\\\n\t2 & tgergler1   & Tedi Gergler      & 10/5/1998 & tgergler1@salon.com       & NA & 21360 & 8/20/2020 & sports\\\\\n\t3 & rphettis3   & Ruddy Phettis     & 6/18/1984 & rphettis3@npr.org         & EU & 80047 & 9/20/2023 & travel\\\\\n\t4 & ttotman6    & Tamqrah Totman    & 8/7/1986  & ttotman6@elpais.com       & AF & 42669 & 3/10/2023 & music \\\\\n\t5 & kgrigoryev8 & Krishna Grigoryev & 5/25/1990 & kgrigoryev8@quantcast.com & EU & 93923 & 1/30/2023 & travel\\\\\n\\end{tabular}\n",
            "text/plain": [
              "  username    full_name         birthdate email                     continent\n",
              "1 ckippen0    Clevey Kippen     5/1/1991  ckippen0@t-online.de      NA       \n",
              "2 tgergler1   Tedi Gergler      10/5/1998 tgergler1@salon.com       NA       \n",
              "3 rphettis3   Ruddy Phettis     6/18/1984 rphettis3@npr.org         EU       \n",
              "4 ttotman6    Tamqrah Totman    8/7/1986  ttotman6@elpais.com       AF       \n",
              "5 kgrigoryev8 Krishna Grigoryev 5/25/1990 kgrigoryev8@quantcast.com EU       \n",
              "  followers last_login interests\n",
              "1 12362     5/16/2023  music    \n",
              "2 21360     8/20/2020  sports   \n",
              "3 80047     9/20/2023  travel   \n",
              "4 42669     3/10/2023  music    \n",
              "5 93923     1/30/2023  travel   "
            ]
          },
          "metadata": {}
        }
      ]
    },
    {
      "cell_type": "code",
      "source": [
        "# Display only the records with the 10 highest follower counts.\n",
        "data_top10 = data_2 %>%\n",
        "  arrange(desc(followers)) %>%\n",
        "  head(10)\n",
        "\n",
        "data_top10"
      ],
      "metadata": {
        "id": "7qa100btlI4Z",
        "outputId": "ad7e56e7-a976-40b8-f35d-d31ec90c163e",
        "colab": {
          "base_uri": "https://localhost:8080/",
          "height": 411
        }
      },
      "execution_count": 41,
      "outputs": [
        {
          "output_type": "display_data",
          "data": {
            "text/html": [
              "<table class=\"dataframe\">\n",
              "<caption>A data.frame: 10 × 8</caption>\n",
              "<thead>\n",
              "\t<tr><th></th><th scope=col>username</th><th scope=col>full_name</th><th scope=col>birthdate</th><th scope=col>email</th><th scope=col>continent</th><th scope=col>followers</th><th scope=col>last_login</th><th scope=col>interests</th></tr>\n",
              "\t<tr><th></th><th scope=col>&lt;chr&gt;</th><th scope=col>&lt;chr&gt;</th><th scope=col>&lt;chr&gt;</th><th scope=col>&lt;chr&gt;</th><th scope=col>&lt;chr&gt;</th><th scope=col>&lt;int&gt;</th><th scope=col>&lt;chr&gt;</th><th scope=col>&lt;chr&gt;</th></tr>\n",
              "</thead>\n",
              "<tbody>\n",
              "\t<tr><th scope=row>1</th><td>lleckeyb6    </td><td>Lynne Leckey        </td><td>4/19/1998 </td><td>lleckeyb6@tripadvisor.com</td><td>SA</td><td>99977</td><td>3/14/2021 </td><td>sports</td></tr>\n",
              "\t<tr><th scope=row>2</th><td>spharoaha2   </td><td>Staci Pharoah       </td><td>9/2/1985  </td><td>spharoaha2@sfgate.com    </td><td>NA</td><td>99905</td><td>10/26/2023</td><td>sports</td></tr>\n",
              "\t<tr><th scope=row>3</th><td>cduftondy    </td><td>Celisse Dufton      </td><td>8/24/1995 </td><td>cduftondy@ox.ac.uk       </td><td>OC</td><td>99707</td><td>9/26/2021 </td><td>sports</td></tr>\n",
              "\t<tr><th scope=row>4</th><td>dbartalin77  </td><td>Desiree Bartalin    </td><td>8/23/1993 </td><td>dbartalin77@usda.gov     </td><td>AF</td><td>99618</td><td>5/30/2022 </td><td>music </td></tr>\n",
              "\t<tr><th scope=row>5</th><td>grivardmp    </td><td>Gwen Rivard         </td><td>9/12/1982 </td><td>grivardmp@google.com.hk  </td><td>OC</td><td>99526</td><td>4/4/2020  </td><td>music </td></tr>\n",
              "\t<tr><th scope=row>6</th><td>mraggitt9g   </td><td>Morgan Raggitt      </td><td>11/16/1992</td><td>mraggitt9g@home.pl       </td><td>NA</td><td>99508</td><td>11/12/2021</td><td>music </td></tr>\n",
              "\t<tr><th scope=row>7</th><td>wbenese7     </td><td>Wain Benes          </td><td>3/9/1998  </td><td>wbenese7@ebay.com        </td><td>NA</td><td>99400</td><td>10/1/2021 </td><td>travel</td></tr>\n",
              "\t<tr><th scope=row>8</th><td>kmorriceht   </td><td>Kitti Morrice       </td><td>6/3/1995  </td><td>kmorriceht@privacy.gov.au</td><td>SA</td><td>98936</td><td>3/24/2021 </td><td>sports</td></tr>\n",
              "\t<tr><th scope=row>9</th><td>smacdonnell7o</td><td>Shoshanna MacDonnell</td><td>9/12/2002 </td><td>smacdonnell7o@toplist.cz </td><td>AS</td><td>98760</td><td>7/20/2021 </td><td>music </td></tr>\n",
              "\t<tr><th scope=row>10</th><td>dcossum34    </td><td>Dwain Cossum        </td><td>9/9/1990  </td><td>dcossum34@dagondesign.com</td><td>NA</td><td>98743</td><td>6/7/2021  </td><td>sports</td></tr>\n",
              "</tbody>\n",
              "</table>\n"
            ],
            "text/markdown": "\nA data.frame: 10 × 8\n\n| <!--/--> | username &lt;chr&gt; | full_name &lt;chr&gt; | birthdate &lt;chr&gt; | email &lt;chr&gt; | continent &lt;chr&gt; | followers &lt;int&gt; | last_login &lt;chr&gt; | interests &lt;chr&gt; |\n|---|---|---|---|---|---|---|---|---|\n| 1 | lleckeyb6     | Lynne Leckey         | 4/19/1998  | lleckeyb6@tripadvisor.com | SA | 99977 | 3/14/2021  | sports |\n| 2 | spharoaha2    | Staci Pharoah        | 9/2/1985   | spharoaha2@sfgate.com     | NA | 99905 | 10/26/2023 | sports |\n| 3 | cduftondy     | Celisse Dufton       | 8/24/1995  | cduftondy@ox.ac.uk        | OC | 99707 | 9/26/2021  | sports |\n| 4 | dbartalin77   | Desiree Bartalin     | 8/23/1993  | dbartalin77@usda.gov      | AF | 99618 | 5/30/2022  | music  |\n| 5 | grivardmp     | Gwen Rivard          | 9/12/1982  | grivardmp@google.com.hk   | OC | 99526 | 4/4/2020   | music  |\n| 6 | mraggitt9g    | Morgan Raggitt       | 11/16/1992 | mraggitt9g@home.pl        | NA | 99508 | 11/12/2021 | music  |\n| 7 | wbenese7      | Wain Benes           | 3/9/1998   | wbenese7@ebay.com         | NA | 99400 | 10/1/2021  | travel |\n| 8 | kmorriceht    | Kitti Morrice        | 6/3/1995   | kmorriceht@privacy.gov.au | SA | 98936 | 3/24/2021  | sports |\n| 9 | smacdonnell7o | Shoshanna MacDonnell | 9/12/2002  | smacdonnell7o@toplist.cz  | AS | 98760 | 7/20/2021  | music  |\n| 10 | dcossum34     | Dwain Cossum         | 9/9/1990   | dcossum34@dagondesign.com | NA | 98743 | 6/7/2021   | sports |\n\n",
            "text/latex": "A data.frame: 10 × 8\n\\begin{tabular}{r|llllllll}\n  & username & full\\_name & birthdate & email & continent & followers & last\\_login & interests\\\\\n  & <chr> & <chr> & <chr> & <chr> & <chr> & <int> & <chr> & <chr>\\\\\n\\hline\n\t1 & lleckeyb6     & Lynne Leckey         & 4/19/1998  & lleckeyb6@tripadvisor.com & SA & 99977 & 3/14/2021  & sports\\\\\n\t2 & spharoaha2    & Staci Pharoah        & 9/2/1985   & spharoaha2@sfgate.com     & NA & 99905 & 10/26/2023 & sports\\\\\n\t3 & cduftondy     & Celisse Dufton       & 8/24/1995  & cduftondy@ox.ac.uk        & OC & 99707 & 9/26/2021  & sports\\\\\n\t4 & dbartalin77   & Desiree Bartalin     & 8/23/1993  & dbartalin77@usda.gov      & AF & 99618 & 5/30/2022  & music \\\\\n\t5 & grivardmp     & Gwen Rivard          & 9/12/1982  & grivardmp@google.com.hk   & OC & 99526 & 4/4/2020   & music \\\\\n\t6 & mraggitt9g    & Morgan Raggitt       & 11/16/1992 & mraggitt9g@home.pl        & NA & 99508 & 11/12/2021 & music \\\\\n\t7 & wbenese7      & Wain Benes           & 3/9/1998   & wbenese7@ebay.com         & NA & 99400 & 10/1/2021  & travel\\\\\n\t8 & kmorriceht    & Kitti Morrice        & 6/3/1995   & kmorriceht@privacy.gov.au & SA & 98936 & 3/24/2021  & sports\\\\\n\t9 & smacdonnell7o & Shoshanna MacDonnell & 9/12/2002  & smacdonnell7o@toplist.cz  & AS & 98760 & 7/20/2021  & music \\\\\n\t10 & dcossum34     & Dwain Cossum         & 9/9/1990   & dcossum34@dagondesign.com & NA & 98743 & 6/7/2021   & sports\\\\\n\\end{tabular}\n",
            "text/plain": [
              "   username      full_name            birthdate  email                    \n",
              "1  lleckeyb6     Lynne Leckey         4/19/1998  lleckeyb6@tripadvisor.com\n",
              "2  spharoaha2    Staci Pharoah        9/2/1985   spharoaha2@sfgate.com    \n",
              "3  cduftondy     Celisse Dufton       8/24/1995  cduftondy@ox.ac.uk       \n",
              "4  dbartalin77   Desiree Bartalin     8/23/1993  dbartalin77@usda.gov     \n",
              "5  grivardmp     Gwen Rivard          9/12/1982  grivardmp@google.com.hk  \n",
              "6  mraggitt9g    Morgan Raggitt       11/16/1992 mraggitt9g@home.pl       \n",
              "7  wbenese7      Wain Benes           3/9/1998   wbenese7@ebay.com        \n",
              "8  kmorriceht    Kitti Morrice        6/3/1995   kmorriceht@privacy.gov.au\n",
              "9  smacdonnell7o Shoshanna MacDonnell 9/12/2002  smacdonnell7o@toplist.cz \n",
              "10 dcossum34     Dwain Cossum         9/9/1990   dcossum34@dagondesign.com\n",
              "   continent followers last_login interests\n",
              "1  SA        99977     3/14/2021  sports   \n",
              "2  NA        99905     10/26/2023 sports   \n",
              "3  OC        99707     9/26/2021  sports   \n",
              "4  AF        99618     5/30/2022  music    \n",
              "5  OC        99526     4/4/2020   music    \n",
              "6  NA        99508     11/12/2021 music    \n",
              "7  NA        99400     10/1/2021  travel   \n",
              "8  SA        98936     3/24/2021  sports   \n",
              "9  AS        98760     7/20/2021  music    \n",
              "10 NA        98743     6/7/2021   sports   "
            ]
          },
          "metadata": {}
        }
      ]
    },
    {
      "cell_type": "code",
      "source": [
        "# NOTE: I am assuming we are grouping all users, not just the ones with the 10 highest follower counts. Apologies if I'm mistaken.\n",
        "data_2_grouped = data_2 %>%\n",
        "  group_by(continent) %>%\n",
        "  summarize(user_count = n())\n",
        "\n",
        "print(data_2_grouped)\n",
        "\n",
        "# If grouping users with the 10 highest follower counts:\n",
        "data_top10_grouped = data_top10 %>%\n",
        "  group_by(continent) %>%\n",
        "  summarize(user_count = n())\n",
        "\n",
        "print(data_top10_grouped)"
      ],
      "metadata": {
        "id": "MjrZisnxlJUa",
        "outputId": "dd6dfd0e-9605-4a6a-dd88-8880a32f490d",
        "colab": {
          "base_uri": "https://localhost:8080/"
        }
      },
      "execution_count": 42,
      "outputs": [
        {
          "output_type": "stream",
          "name": "stdout",
          "text": [
            "\u001b[90m# A tibble: 6 × 2\u001b[39m\n",
            "  continent user_count\n",
            "  \u001b[3m\u001b[90m<chr>\u001b[39m\u001b[23m          \u001b[3m\u001b[90m<int>\u001b[39m\u001b[23m\n",
            "\u001b[90m1\u001b[39m AF                70\n",
            "\u001b[90m2\u001b[39m AS               111\n",
            "\u001b[90m3\u001b[39m EU                77\n",
            "\u001b[90m4\u001b[39m OC                95\n",
            "\u001b[90m5\u001b[39m SA                69\n",
            "\u001b[90m6\u001b[39m \u001b[31mNA\u001b[39m               228\n",
            "\u001b[90m# A tibble: 5 × 2\u001b[39m\n",
            "  continent user_count\n",
            "  \u001b[3m\u001b[90m<chr>\u001b[39m\u001b[23m          \u001b[3m\u001b[90m<int>\u001b[39m\u001b[23m\n",
            "\u001b[90m1\u001b[39m AF                 1\n",
            "\u001b[90m2\u001b[39m AS                 1\n",
            "\u001b[90m3\u001b[39m OC                 2\n",
            "\u001b[90m4\u001b[39m SA                 2\n",
            "\u001b[90m5\u001b[39m \u001b[31mNA\u001b[39m                 4\n"
          ]
        }
      ]
    }
  ]
}