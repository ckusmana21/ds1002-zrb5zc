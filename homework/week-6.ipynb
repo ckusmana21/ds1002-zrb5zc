{
  "nbformat": 4,
  "nbformat_minor": 0,
  "metadata": {
    "colab": {
      "provenance": [],
      "include_colab_link": true
    },
    "kernelspec": {
      "name": "python3",
      "display_name": "Python 3"
    },
    "language_info": {
      "name": "python"
    }
  },
  "cells": [
    {
      "cell_type": "markdown",
      "metadata": {
        "id": "view-in-github",
        "colab_type": "text"
      },
      "source": [
        "<a href=\"https://colab.research.google.com/github/ckusmana21/ds1002-zrb5zc/blob/main/homework/week-6.ipynb\" target=\"_parent\"><img src=\"https://colab.research.google.com/assets/colab-badge.svg\" alt=\"Open In Colab\"/></a>"
      ]
    },
    {
      "cell_type": "markdown",
      "source": [
        "# Homework - Week 6\n",
        "\n",
        "Complete the following blocks as specified in the directions. Run each cell to return the desired output. Save your notebook back to your GitHub repository and submit the GitHub URL for your notebook for review."
      ],
      "metadata": {
        "id": "xJ6ZWHKXW4qY"
      }
    },
    {
      "cell_type": "markdown",
      "source": [
        "# Pandas\n",
        "\n",
        "## 1. Fetch and Load Data\n",
        "In class we created a DataFrame using the `read_csv` method. Go to https://catalog.data.gov/dataset/electric-vehicle-population-data and download the CSV format of the \"Electric Vehicle Population Data\" dataset. Then upload it to Google Colab.\n",
        "\n",
        "Load that data into a Pandas DataFrame and display the first 20 rows. Show your work."
      ],
      "metadata": {
        "id": "2xOjrZ-Rg28_"
      }
    },
    {
      "cell_type": "code",
      "source": [
        "# Set up pandas and populate the dataframe above using the raw data. Then continue to work with the dataframe in the questions below.\n",
        "import pandas as pd\n",
        "dataset = pd.read_csv(\"/content/sample_data/Electric_Vehicle_Population_Data.csv\")\n",
        "print(dataset.head(20))"
      ],
      "metadata": {
        "id": "--XDmwVsbMC0",
        "colab": {
          "base_uri": "https://localhost:8080/"
        },
        "outputId": "7b338e35-bd1d-4c0f-f36d-ef24fbfa06f4"
      },
      "execution_count": 8,
      "outputs": [
        {
          "output_type": "stream",
          "name": "stdout",
          "text": [
            "    VIN (1-10)     County          City State  Postal Code  Model Year  \\\n",
            "0   KM8K33AGXL       King       Seattle    WA      98103.0        2020   \n",
            "1   1C4RJYB61N       King       Bothell    WA      98011.0        2022   \n",
            "2   1C4RJYD61P     Yakima        Yakima    WA      98908.0        2023   \n",
            "3   5YJ3E1EA7J       King      Kirkland    WA      98034.0        2018   \n",
            "4   WBY7Z8C5XJ   Thurston       Olympia    WA      98501.0        2018   \n",
            "5   5YJ3E1EAXL  Snohomish    Marysville    WA      98271.0        2020   \n",
            "6   2C4RC1N77H       King          Kent    WA      98042.0        2017   \n",
            "7   5YJYGDEE3L       King   Woodinville    WA      98072.0        2020   \n",
            "8   5YJ3E1EA1J     Island    Coupeville    WA      98239.0        2018   \n",
            "9   7SAYGDEF0P       King      Bellevue    WA      98004.0        2023   \n",
            "10  5YJ3E1EA7J       King      Kirkland    WA      98033.0        2018   \n",
            "11  3FA6P0SU9G     Kitsap  Port Orchard    WA      98367.0        2016   \n",
            "12  JTDKARFP9H     Kitsap  Port Orchard    WA      98366.0        2017   \n",
            "13  5YJ3E1EB8K  Snohomish      Mukilteo    WA      98275.0        2019   \n",
            "14  5YJ3E1EA5K       King       Redmond    WA      98052.0        2019   \n",
            "15  3FA6P0SU0D   Thurston     Rochester    WA      98579.0        2013   \n",
            "16  WA1VABGE4K       King       Seattle    WA      98112.0        2019   \n",
            "17  1N4AZ0CP6F       King       Seattle    WA      98125.0        2015   \n",
            "18  KNDCC3LD7K     Kitsap     Bremerton    WA      98311.0        2019   \n",
            "19  1N4AZ0CP1E     Kitsap       Poulsbo    WA      98370.0        2014   \n",
            "\n",
            "        Make           Model                   Electric Vehicle Type  \\\n",
            "0    HYUNDAI            KONA          Battery Electric Vehicle (BEV)   \n",
            "1       JEEP  GRAND CHEROKEE  Plug-in Hybrid Electric Vehicle (PHEV)   \n",
            "2       JEEP  GRAND CHEROKEE  Plug-in Hybrid Electric Vehicle (PHEV)   \n",
            "3      TESLA         MODEL 3          Battery Electric Vehicle (BEV)   \n",
            "4        BMW              I3  Plug-in Hybrid Electric Vehicle (PHEV)   \n",
            "5      TESLA         MODEL 3          Battery Electric Vehicle (BEV)   \n",
            "6   CHRYSLER        PACIFICA  Plug-in Hybrid Electric Vehicle (PHEV)   \n",
            "7      TESLA         MODEL Y          Battery Electric Vehicle (BEV)   \n",
            "8      TESLA         MODEL 3          Battery Electric Vehicle (BEV)   \n",
            "9      TESLA         MODEL Y          Battery Electric Vehicle (BEV)   \n",
            "10     TESLA         MODEL 3          Battery Electric Vehicle (BEV)   \n",
            "11      FORD          FUSION  Plug-in Hybrid Electric Vehicle (PHEV)   \n",
            "12    TOYOTA     PRIUS PRIME  Plug-in Hybrid Electric Vehicle (PHEV)   \n",
            "13     TESLA         MODEL 3          Battery Electric Vehicle (BEV)   \n",
            "14     TESLA         MODEL 3          Battery Electric Vehicle (BEV)   \n",
            "15      FORD          FUSION  Plug-in Hybrid Electric Vehicle (PHEV)   \n",
            "16      AUDI          E-TRON          Battery Electric Vehicle (BEV)   \n",
            "17    NISSAN            LEAF          Battery Electric Vehicle (BEV)   \n",
            "18       KIA            NIRO  Plug-in Hybrid Electric Vehicle (PHEV)   \n",
            "19    NISSAN            LEAF          Battery Electric Vehicle (BEV)   \n",
            "\n",
            "    Clean Alternative Fuel Vehicle (CAFV) Eligibility  Electric Range  \\\n",
            "0             Clean Alternative Fuel Vehicle Eligible             258   \n",
            "1               Not eligible due to low battery range              25   \n",
            "2               Not eligible due to low battery range              25   \n",
            "3             Clean Alternative Fuel Vehicle Eligible             215   \n",
            "4             Clean Alternative Fuel Vehicle Eligible              97   \n",
            "5             Clean Alternative Fuel Vehicle Eligible             266   \n",
            "6             Clean Alternative Fuel Vehicle Eligible              33   \n",
            "7             Clean Alternative Fuel Vehicle Eligible             291   \n",
            "8             Clean Alternative Fuel Vehicle Eligible             215   \n",
            "9   Eligibility unknown as battery range has not b...               0   \n",
            "10            Clean Alternative Fuel Vehicle Eligible             215   \n",
            "11              Not eligible due to low battery range              19   \n",
            "12              Not eligible due to low battery range              25   \n",
            "13            Clean Alternative Fuel Vehicle Eligible             220   \n",
            "14            Clean Alternative Fuel Vehicle Eligible             220   \n",
            "15              Not eligible due to low battery range              19   \n",
            "16            Clean Alternative Fuel Vehicle Eligible             204   \n",
            "17            Clean Alternative Fuel Vehicle Eligible              84   \n",
            "18              Not eligible due to low battery range              26   \n",
            "19            Clean Alternative Fuel Vehicle Eligible              84   \n",
            "\n",
            "    Base MSRP  Legislative District  DOL Vehicle ID  \\\n",
            "0           0                  43.0       249675142   \n",
            "1           0                   1.0       233928502   \n",
            "2           0                  14.0       229675939   \n",
            "3           0                  45.0       104714466   \n",
            "4           0                  22.0       185498386   \n",
            "5           0                  38.0       124595523   \n",
            "6           0                  47.0         1815593   \n",
            "7           0                  45.0       124760555   \n",
            "8           0                  10.0       125048003   \n",
            "9           0                  48.0       240416207   \n",
            "10          0                  48.0       231013436   \n",
            "11          0                  26.0       212561716   \n",
            "12          0                  26.0       229764972   \n",
            "13          0                  21.0       179728755   \n",
            "14          0                  45.0       120633516   \n",
            "15          0                  20.0       138697212   \n",
            "16          0                  43.0       475364046   \n",
            "17          0                  46.0       252522896   \n",
            "18          0                  23.0         2148170   \n",
            "19          0                  23.0       258176922   \n",
            "\n",
            "                   Vehicle Location  \\\n",
            "0      POINT (-122.34301 47.659185)   \n",
            "1      POINT (-122.20578 47.762405)   \n",
            "2   POINT (-120.6027202 46.5965625)   \n",
            "3      POINT (-122.209285 47.71124)   \n",
            "4      POINT (-122.89692 47.043535)   \n",
            "5     POINT (-122.1713847 48.10433)   \n",
            "6      POINT (-122.111625 47.36078)   \n",
            "7      POINT (-122.151665 47.75855)   \n",
            "8   POINT (-122.6880708 48.2179983)   \n",
            "9      POINT (-122.201905 47.61385)   \n",
            "10       POINT (-122.20264 47.6785)   \n",
            "11   POINT (-122.6851642 47.506453)   \n",
            "12      POINT (-122.639265 47.5373)   \n",
            "13     POINT (-122.299965 47.94171)   \n",
            "14      POINT (-122.12302 47.67668)   \n",
            "15      POINT (-123.09573 46.82158)   \n",
            "16     POINT (-122.306935 47.62441)   \n",
            "17     POINT (-122.296385 47.71558)   \n",
            "18  POINT (-122.6468815 47.6344364)   \n",
            "19     POINT (-122.64177 47.737525)   \n",
            "\n",
            "                                 Electric Utility  2020 Census Tract  \n",
            "0    CITY OF SEATTLE - (WA)|CITY OF TACOMA - (WA)       5.303300e+10  \n",
            "1   PUGET SOUND ENERGY INC||CITY OF TACOMA - (WA)       5.303302e+10  \n",
            "2                                      PACIFICORP       5.307700e+10  \n",
            "3   PUGET SOUND ENERGY INC||CITY OF TACOMA - (WA)       5.303302e+10  \n",
            "4                          PUGET SOUND ENERGY INC       5.306701e+10  \n",
            "5                          PUGET SOUND ENERGY INC       5.306194e+10  \n",
            "6   PUGET SOUND ENERGY INC||CITY OF TACOMA - (WA)       5.303303e+10  \n",
            "7   PUGET SOUND ENERGY INC||CITY OF TACOMA - (WA)       5.303302e+10  \n",
            "8                          PUGET SOUND ENERGY INC       5.302997e+10  \n",
            "9   PUGET SOUND ENERGY INC||CITY OF TACOMA - (WA)       5.303302e+10  \n",
            "10  PUGET SOUND ENERGY INC||CITY OF TACOMA - (WA)       5.303302e+10  \n",
            "11                         PUGET SOUND ENERGY INC       5.303509e+10  \n",
            "12                         PUGET SOUND ENERGY INC       5.303509e+10  \n",
            "13                         PUGET SOUND ENERGY INC       5.306104e+10  \n",
            "14  PUGET SOUND ENERGY INC||CITY OF TACOMA - (WA)       5.303303e+10  \n",
            "15                         PUGET SOUND ENERGY INC       5.306701e+10  \n",
            "16   CITY OF SEATTLE - (WA)|CITY OF TACOMA - (WA)       5.303301e+10  \n",
            "17   CITY OF SEATTLE - (WA)|CITY OF TACOMA - (WA)       5.303300e+10  \n",
            "18                         PUGET SOUND ENERGY INC       5.303509e+10  \n",
            "19                         PUGET SOUND ENERGY INC       5.303509e+10  \n"
          ]
        }
      ]
    },
    {
      "cell_type": "code",
      "source": [
        "# Format a command that how many rows and columns are in this dataset.\n",
        "print(len(dataset.columns))\n",
        "print(dataset.shape[0])"
      ],
      "metadata": {
        "id": "BOEWyifRiA-W",
        "colab": {
          "base_uri": "https://localhost:8080/"
        },
        "outputId": "20a0d89d-d008-494a-a7fa-6ef942da84c5"
      },
      "execution_count": 9,
      "outputs": [
        {
          "output_type": "stream",
          "name": "stdout",
          "text": [
            "17\n",
            "150482\n"
          ]
        }
      ]
    },
    {
      "cell_type": "code",
      "source": [
        "# Format a command that displays every other row of records 1000 through 1999, and the columns \"City\", \"State\", \"Model Year\", and \"Make\".\n",
        "print(dataset.loc[1000:1999:2, [\"City\", \"State\", \"Model Year\", \"Make\"]])"
      ],
      "metadata": {
        "id": "RxqOYSNXiJ5U",
        "colab": {
          "base_uri": "https://localhost:8080/"
        },
        "outputId": "0a73216e-8265-4719-e444-ed3248d5abc2"
      },
      "execution_count": 10,
      "outputs": [
        {
          "output_type": "stream",
          "name": "stdout",
          "text": [
            "           City State  Model Year       Make\n",
            "1000     Auburn    WA        2022      TESLA\n",
            "1002  Vancouver    WA        2021       JEEP\n",
            "1004    Edmonds    WA        2022      TESLA\n",
            "1006   Kirkland    WA        2013       FORD\n",
            "1008    Seattle    WA        2022        KIA\n",
            "...         ...   ...         ...        ...\n",
            "1990    Seattle    WA        2020     TOYOTA\n",
            "1992  Vancouver    WA        2020      TESLA\n",
            "1994       Kent    WA        2023  CHEVROLET\n",
            "1996    Seattle    WA        2020      VOLVO\n",
            "1998    Olympia    WA        2022        KIA\n",
            "\n",
            "[500 rows x 4 columns]\n"
          ]
        }
      ]
    },
    {
      "cell_type": "markdown",
      "source": [
        "# 2. Cleaning/Imputing Data\n",
        "\n",
        "In class we reviewed methods for removing duplicate rows and handling empty cell values. Download [this data set](https://github.com/nmagee/ds1002/blob/main/data/very-messy-data.csv) and upload into Google Colab.\n",
        "\n",
        "Create another Pandas DataFrame from that data and perform the following steps."
      ],
      "metadata": {
        "id": "ne7qgu7nVtiI"
      }
    },
    {
      "cell_type": "code",
      "source": [
        "# Set up pandas and populate the dataframe above using the raw data. Then continue to work with the dataframe in the questions below.\n",
        "import pandas as pd\n",
        "dataset2 = pd.read_csv(\"/content/sample_data/very-messy-data.csv\")"
      ],
      "metadata": {
        "id": "sDYMm0QpWKYO"
      },
      "execution_count": 7,
      "outputs": []
    },
    {
      "cell_type": "code",
      "source": [
        "# Write a snippet of code that will display the number of duplicate rows exist in the DF.\n",
        "print(dataset2.duplicated().sum())"
      ],
      "metadata": {
        "id": "keh0p_RjWMDy",
        "colab": {
          "base_uri": "https://localhost:8080/"
        },
        "outputId": "ba816cf9-9937-4c11-dca5-0d4cabc5d75d"
      },
      "execution_count": 11,
      "outputs": [
        {
          "output_type": "stream",
          "name": "stdout",
          "text": [
            "316\n"
          ]
        }
      ]
    },
    {
      "cell_type": "code",
      "source": [
        "# Next, remove all duplicate rows using Python.\n",
        "dataset2 = dataset2.drop_duplicates()"
      ],
      "metadata": {
        "id": "lJqw97KwWraS"
      },
      "execution_count": null,
      "outputs": []
    },
    {
      "cell_type": "code",
      "source": [
        "# For the FOUR columns involving sepal and petal length and width, update all NaN\n",
        "# values with the column mean such that NO empty cells remain. This method\n",
        "# is called \"imputation\" because it fills in cells in a statistically less-impactful\n",
        "# way than if they were blank.\n",
        "\n",
        "# Show how you would update those four columns in code\n",
        "\n",
        "four_columns = [\"sepal_length\", \"sepal_width\", \"petal_length\", \"petal_width\"]\n",
        "column_mean = dataset2[four_columns].mean()\n",
        "dataset2[four_columns] = dataset2[four_columns].fillna(column_mean)"
      ],
      "metadata": {
        "id": "yGbZ4Vy-W2pm"
      },
      "execution_count": 12,
      "outputs": []
    },
    {
      "cell_type": "markdown",
      "source": [
        "# 3. Save to a New CSV\n",
        "\n",
        "Preserve your updated DF to a CSV file by using the method built into Pandas.\n",
        "Name the output file `very-clean-data.csv` and save it to GitHub in the same directory where you will save this homework. We will review both your Colab notebook and the cleaned data file."
      ],
      "metadata": {
        "id": "v1Y4RoeLXZnI"
      }
    }
  ]
}