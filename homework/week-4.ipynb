{
  "nbformat": 4,
  "nbformat_minor": 0,
  "metadata": {
    "colab": {
      "provenance": [],
      "include_colab_link": true
    },
    "kernelspec": {
      "name": "python3",
      "display_name": "Python 3"
    },
    "language_info": {
      "name": "python"
    }
  },
  "cells": [
    {
      "cell_type": "markdown",
      "metadata": {
        "id": "view-in-github",
        "colab_type": "text"
      },
      "source": [
        "<a href=\"https://colab.research.google.com/github/ckusmana21/ds1002-zrb5zc/blob/main/homework/week-4.ipynb\" target=\"_parent\"><img src=\"https://colab.research.google.com/assets/colab-badge.svg\" alt=\"Open In Colab\"/></a>"
      ]
    },
    {
      "cell_type": "markdown",
      "source": [
        "# Homework - Week 4\n",
        "\n",
        "Complete the following blocks as specified in the directions. Run each cell to return the desired output. Save your notebook back to your GitHub repository and submit the GitHub URL for your notebook for review."
      ],
      "metadata": {
        "id": "xJ6ZWHKXW4qY"
      }
    },
    {
      "cell_type": "markdown",
      "source": [
        "## 1. Data Types\n",
        "\n",
        "```python\n",
        "s = \"Fox\"\n",
        "x = 17\n",
        "y = \"3\"\n",
        "z = \"false\"\n",
        "```\n",
        "\n",
        "Using the variables above answer these questions:"
      ],
      "metadata": {
        "id": "atxtPF2-XXiW"
      }
    },
    {
      "cell_type": "code",
      "execution_count": 1,
      "metadata": {
        "id": "mdX0VBQgW1-9",
        "outputId": "1f9071d2-fef1-4a49-daf1-f2854454aa06",
        "colab": {
          "base_uri": "https://localhost:8080/"
        }
      },
      "outputs": [
        {
          "output_type": "stream",
          "name": "stdout",
          "text": [
            "<class 'str'>\n"
          ]
        }
      ],
      "source": [
        "# Write a snippet of code that displays the data type (class) of `s`\n",
        "s = \"Fox\"\n",
        "print(type(s))"
      ]
    },
    {
      "cell_type": "code",
      "source": [
        "y = \"3\"\n",
        "x = 17\n",
        "\n",
        "y = int(y)\n",
        "x_plus_y = x + y\n",
        "print(\"The sum is\", x_plus_y)"
      ],
      "metadata": {
        "id": "OoLP555BbMWi",
        "outputId": "2b8f24b9-f9a7-4a15-b5c6-c5062009c381",
        "colab": {
          "base_uri": "https://localhost:8080/"
        }
      },
      "execution_count": 6,
      "outputs": [
        {
          "output_type": "stream",
          "name": "stdout",
          "text": [
            "The sum is 20\n"
          ]
        }
      ]
    },
    {
      "cell_type": "code",
      "source": [
        "# How might you transform z into a boolean value, if you had to? Be creative.\n",
        "z = \"false\"\n",
        "boolean_z = z.lower() != \"false\"\n",
        "print(boolean_z)"
      ],
      "metadata": {
        "id": "--XDmwVsbMC0",
        "outputId": "7ffadafb-78f3-4cb9-a9f8-67693e6fb554",
        "colab": {
          "base_uri": "https://localhost:8080/"
        }
      },
      "execution_count": 10,
      "outputs": [
        {
          "output_type": "stream",
          "name": "stdout",
          "text": [
            "False\n"
          ]
        }
      ]
    },
    {
      "cell_type": "markdown",
      "source": [
        "- - -"
      ],
      "metadata": {
        "id": "zPvfX62VbK40"
      }
    },
    {
      "cell_type": "markdown",
      "source": [
        "## 2. Lists\n",
        "\n",
        "    mylist = [\"Chicago\",\"New Orleans\", \"Tempe\", \"Denver\", \"Nashville\", \"Albany\"]\n",
        "\n",
        "Using the list above, answer these questions:"
      ],
      "metadata": {
        "id": "j0mCENI3XK2i"
      }
    },
    {
      "cell_type": "code",
      "source": [
        "# Write a snippet of code that prints out \"Tempe\"\n",
        "mylist = [\"Chicago\", \"New Orleans\", \"Tempe\", \"Denver\", \"Nashville\", \"Albany\"]\n",
        "print(mylist[2])"
      ],
      "metadata": {
        "id": "2szfLXZcYC_7",
        "outputId": "75051fe2-fa73-45da-a343-9218b2a59beb",
        "colab": {
          "base_uri": "https://localhost:8080/"
        }
      },
      "execution_count": 11,
      "outputs": [
        {
          "output_type": "stream",
          "name": "stdout",
          "text": [
            "Tempe\n"
          ]
        }
      ]
    },
    {
      "cell_type": "code",
      "source": [
        "# Write a snippet of code that adds \"Atlanta\" to this list and displays the extended list.\n",
        "mylist = [\"Chicago\", \"New Orleans\", \"Tempe\", \"Denver\", \"Nashville\", \"Albany\"]\n",
        "mylist.append(\"Atlanta\")\n",
        "print(mylist)"
      ],
      "metadata": {
        "id": "P6IeQYoTdMhh",
        "outputId": "67b0c026-9b54-4d34-de2b-cbc0e1e1dcca",
        "colab": {
          "base_uri": "https://localhost:8080/"
        }
      },
      "execution_count": 12,
      "outputs": [
        {
          "output_type": "stream",
          "name": "stdout",
          "text": [
            "['Chicago', 'New Orleans', 'Tempe', 'Denver', 'Nashville', 'Albany', 'Atlanta']\n"
          ]
        }
      ]
    },
    {
      "cell_type": "code",
      "source": [
        "# Write a snippet of code that prints out only \"New Orleans\", \"Tempe\", \"Denver\".\n",
        "mylist = [\"Chicago\", \"New Orleans\", \"Tempe\", \"Denver\", \"Nashville\", \"Albany\"]\n",
        "for three_places in mylist[1:4]:\n",
        "  print(three_places)"
      ],
      "metadata": {
        "id": "t43LdDkhdM2N",
        "outputId": "0fec2b09-9277-4f8d-bba8-d1d5c2e29d53",
        "colab": {
          "base_uri": "https://localhost:8080/"
        }
      },
      "execution_count": 15,
      "outputs": [
        {
          "output_type": "stream",
          "name": "stdout",
          "text": [
            "New Orleans\n",
            "Tempe\n",
            "Denver\n"
          ]
        }
      ]
    },
    {
      "cell_type": "markdown",
      "source": [
        "- - -"
      ],
      "metadata": {
        "id": "ATrOT4dYbIVH"
      }
    },
    {
      "cell_type": "markdown",
      "source": [
        "# 3. Dictionaries\n",
        "\n",
        "    mydict = {\"VA\":\"Richmond\", \"NC\":\"Raleigh\", \"NJ\":\"Trenton\", \"PA\":\"Harrisburg\", \"NY\":\"Albany\"}\n",
        "\n",
        "Answer the following questions:"
      ],
      "metadata": {
        "id": "GeXcT_9sYEdx"
      }
    },
    {
      "cell_type": "code",
      "source": [
        "# Write a snippet of code that returns \"Trenton\".\n",
        "mydict = {\"VA\":\"Richmond\", \"NC\":\"Raleigh\", \"NJ\":\"Trenton\", \"PA\":\"Harrisburg\", \"NY\":\"Albany\"}\n",
        "city = mydict[\"NJ\"]\n",
        "print(city)"
      ],
      "metadata": {
        "id": "v3fvvKP4ZUvJ",
        "outputId": "fe80a089-c88f-4188-caea-da8b224c9d75",
        "colab": {
          "base_uri": "https://localhost:8080/"
        }
      },
      "execution_count": 16,
      "outputs": [
        {
          "output_type": "stream",
          "name": "stdout",
          "text": [
            "Trenton\n"
          ]
        }
      ]
    },
    {
      "cell_type": "code",
      "source": [
        "# Write a snippet of code that adds \"CO\":\"Denver\" to `mydict`.\n",
        "# Remember the built-in .update({'key': 'value'}) method.\n",
        "mydict = {\"VA\":\"Richmond\", \"NC\":\"Raleigh\", \"NJ\":\"Trenton\", \"PA\":\"Harrisburg\", \"NY\":\"Albany\"}\n",
        "mydict.update({\"CO\": \"Denver\"})\n",
        "print(mydict)"
      ],
      "metadata": {
        "id": "OEwUkIDNa90b",
        "outputId": "a9e28c51-b4de-4e9f-c25c-7b94b235b5e0",
        "colab": {
          "base_uri": "https://localhost:8080/"
        }
      },
      "execution_count": 17,
      "outputs": [
        {
          "output_type": "stream",
          "name": "stdout",
          "text": [
            "{'VA': 'Richmond', 'NC': 'Raleigh', 'NJ': 'Trenton', 'PA': 'Harrisburg', 'NY': 'Albany', 'CO': 'Denver'}\n"
          ]
        }
      ]
    },
    {
      "cell_type": "code",
      "source": [
        "# Write a snippet of code that returns all the keys in `mydict`\n",
        "mydict = {\"VA\":\"Richmond\", \"NC\":\"Raleigh\", \"NJ\":\"Trenton\", \"PA\":\"Harrisburg\", \"NY\":\"Albany\"}\n",
        "keys = list(mydict)\n",
        "print(keys)"
      ],
      "metadata": {
        "id": "VwoLtOILbF2K",
        "outputId": "3a42a162-46e2-45cd-ccfb-d7ef98f3655d",
        "colab": {
          "base_uri": "https://localhost:8080/"
        }
      },
      "execution_count": 18,
      "outputs": [
        {
          "output_type": "stream",
          "name": "stdout",
          "text": [
            "['VA', 'NC', 'NJ', 'PA', 'NY']\n"
          ]
        }
      ]
    },
    {
      "cell_type": "markdown",
      "source": [
        "- - -"
      ],
      "metadata": {
        "id": "svpBBTSYa5Dh"
      }
    },
    {
      "cell_type": "markdown",
      "source": [
        "# 4. NumPy Arrays\n",
        "\n",
        "Create an `ndarray` that contains the following values and assign the array to a variable.\n",
        "\n",
        "    2, 3, 5, 7, 11, 13, 17, 19, 23, 29, 31, 37\n",
        "\n",
        "Using that variable, answer the following questions:"
      ],
      "metadata": {
        "id": "DkVtHJBoYW34"
      }
    },
    {
      "cell_type": "code",
      "source": [
        "# Write a snippet of code that prints the data type of the elements in the array.\n",
        "import numpy as np\n",
        "numbers = [2, 3, 5, 7, 11, 13, 17, 19, 23, 29, 31, 37]\n",
        "my_array = np.array(numbers)\n",
        "print(my_array.dtype)"
      ],
      "metadata": {
        "id": "db5UdbrVZSiJ",
        "outputId": "4424b112-bf83-44a7-84fc-f388c1f1048c",
        "colab": {
          "base_uri": "https://localhost:8080/"
        }
      },
      "execution_count": 20,
      "outputs": [
        {
          "output_type": "stream",
          "name": "stdout",
          "text": [
            "int64\n"
          ]
        }
      ]
    },
    {
      "cell_type": "code",
      "source": [
        "# Write a snippet of code that displays `11` from the array.\n",
        "import numpy as np\n",
        "numbers = np.array([2, 3, 5, 7, 11, 13, 17, 19, 23, 29, 31, 37])\n",
        "print(numbers[4])"
      ],
      "metadata": {
        "id": "8je9wRG9aoWb",
        "outputId": "dc50d491-cd5c-4979-911f-b7183d2f2095",
        "colab": {
          "base_uri": "https://localhost:8080/"
        }
      },
      "execution_count": 21,
      "outputs": [
        {
          "output_type": "stream",
          "name": "stdout",
          "text": [
            "11\n"
          ]
        }
      ]
    },
    {
      "cell_type": "code",
      "source": [
        "# Write a snippet of code that multiplies each array element by `7` and displays the new values.\n",
        "import numpy as np\n",
        "numbers = np.array([2, 3, 5, 7, 11, 13, 17, 19, 23, 29, 31, 37])\n",
        "multipied_numbers = numbers * 7\n",
        "print(multipied_numbers)"
      ],
      "metadata": {
        "id": "GBT5RzQfaovb",
        "outputId": "862a7e63-7e88-44dc-bfbc-7f0c59d6a487",
        "colab": {
          "base_uri": "https://localhost:8080/"
        }
      },
      "execution_count": 22,
      "outputs": [
        {
          "output_type": "stream",
          "name": "stdout",
          "text": [
            "[ 14  21  35  49  77  91 119 133 161 203 217 259]\n"
          ]
        }
      ]
    }
  ]
}