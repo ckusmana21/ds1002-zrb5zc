{
  "nbformat": 4,
  "nbformat_minor": 0,
  "metadata": {
    "colab": {
      "provenance": [],
      "include_colab_link": true
    },
    "kernelspec": {
      "name": "python3",
      "display_name": "Python 3"
    },
    "language_info": {
      "name": "python"
    }
  },
  "cells": [
    {
      "cell_type": "markdown",
      "metadata": {
        "id": "view-in-github",
        "colab_type": "text"
      },
      "source": [
        "<a href=\"https://colab.research.google.com/github/ckusmana21/ds1002-zrb5zc/blob/main/homework/week-5.ipynb\" target=\"_parent\"><img src=\"https://colab.research.google.com/assets/colab-badge.svg\" alt=\"Open In Colab\"/></a>"
      ]
    },
    {
      "cell_type": "markdown",
      "source": [
        "# Homework - Week 5\n",
        "\n",
        "Complete the following blocks as specified in the directions. Run each cell to return the desired output. Save your notebook back to your GitHub repository and submit the GitHub URL for your notebook for review."
      ],
      "metadata": {
        "id": "xJ6ZWHKXW4qY"
      }
    },
    {
      "cell_type": "markdown",
      "source": [
        "## 1. NumPy\n",
        "\n",
        "You have three Python lists (below). Put them into a single NumPy `ndarray` as a 2-dimensional array (with 6 columns and 3 rows). Using the 6 columns in each list, add each column's values and print out the added values. Demonstrate everything required to code such an operation in the code block below.\n",
        "\n",
        "```python\n",
        "val1 = [12,14,16,18,20,22]\n",
        "val2 = [5,10,15,20,25,30]\n",
        "val3 = [5,7,9,11,13,15]\n",
        "```"
      ],
      "metadata": {
        "id": "atxtPF2-XXiW"
      }
    },
    {
      "cell_type": "code",
      "execution_count": 2,
      "metadata": {
        "id": "mdX0VBQgW1-9",
        "outputId": "93a38af5-5747-40fd-9ce3-205bb7b30035",
        "colab": {
          "base_uri": "https://localhost:8080/"
        }
      },
      "outputs": [
        {
          "output_type": "stream",
          "name": "stdout",
          "text": [
            "[[12 14 16 18 20 22]\n",
            " [ 5 10 15 20 25 30]\n",
            " [ 5  7  9 11 13 15]]\n"
          ]
        }
      ],
      "source": [
        "# Set up numpy and create an array from the 3 lists above. Don't just copy and\n",
        "# paste the values into a new array by hand, use the three variables to create it.\n",
        "\n",
        "val1 = [12, 14, 16, 18, 20, 22]\n",
        "val2 = [5, 10, 15, 20, 25, 30]\n",
        "val3 = [5, 7, 9, 11, 13, 15]\n",
        "\n",
        "import numpy as np\n",
        "array_values = np.array([val1, val2, val3])\n",
        "print(array_values)\n"
      ]
    },
    {
      "cell_type": "code",
      "source": [
        "# Now format a SINGLE command that displays the first and second lines of the ndarray you just made.\n",
        "print(array_values[:2])\n"
      ],
      "metadata": {
        "id": "OqufZNzyjfPe",
        "outputId": "cb58ce25-d98e-4680-da0d-7a45e9376ed8",
        "colab": {
          "base_uri": "https://localhost:8080/"
        }
      },
      "execution_count": 3,
      "outputs": [
        {
          "output_type": "stream",
          "name": "stdout",
          "text": [
            "[[12 14 16 18 20 22]\n",
            " [ 5 10 15 20 25 30]]\n"
          ]
        }
      ]
    },
    {
      "cell_type": "code",
      "source": [
        "# Format a command that slices the ndarray, giving only the first 3 columns of the first 2 rows.\n",
        "# Display those values back in your code.\n",
        "print(array_values[:2, :3])"
      ],
      "metadata": {
        "id": "J72swip9j2fN",
        "outputId": "91028e62-a13d-419e-a39d-bc8f7e3f3ef7",
        "colab": {
          "base_uri": "https://localhost:8080/"
        }
      },
      "execution_count": 4,
      "outputs": [
        {
          "output_type": "stream",
          "name": "stdout",
          "text": [
            "[[12 14 16]\n",
            " [ 5 10 15]]\n"
          ]
        }
      ]
    },
    {
      "cell_type": "code",
      "source": [
        "# Finally, using the ndarray object you created above, use the .T method with it.\n",
        "# For example, if your ndarray was named \"myarray\" then issue this command:\n",
        "#\n",
        "#  myarray.T\n",
        "#\n",
        "# What does that command do to the ndarray? Write your answer in the text block below.\n",
        "\n",
        "print(array_values.T)"
      ],
      "metadata": {
        "id": "6cclXhoTlcZa",
        "outputId": "b8c51f6f-2cb9-4f55-c431-5f06be417e6a",
        "colab": {
          "base_uri": "https://localhost:8080/"
        }
      },
      "execution_count": 5,
      "outputs": [
        {
          "output_type": "stream",
          "name": "stdout",
          "text": [
            "[[12  5  5]\n",
            " [14 10  7]\n",
            " [16 15  9]\n",
            " [18 20 11]\n",
            " [20 25 13]\n",
            " [22 30 15]]\n"
          ]
        }
      ]
    },
    {
      "cell_type": "markdown",
      "source": [
        "It switches the columns and rows of the array."
      ],
      "metadata": {
        "id": "18ox3zDWlxo5"
      }
    },
    {
      "cell_type": "markdown",
      "source": [
        "# 2. Pandas\n",
        "\n",
        "In class we created a DataFrame using the `read_csv` method. Another way to create a df is by hand, using Python lists. Below shows you how to do that, using a list of columns, a list of indexes, and a list of actual data for each record.\n",
        "\n",
        "```python\n",
        "df = pd.DataFrame(\n",
        "    columns=['x','y','z'],\n",
        "    index=['row1','row2','row3'],\n",
        "    data=[[9,3,7],[1,2,4],[4,6,8]])\n",
        "```"
      ],
      "metadata": {
        "id": "2xOjrZ-Rg28_"
      }
    },
    {
      "cell_type": "code",
      "source": [
        "# Set up pandas and create the dataframe above. Then continue to work with the dataframe in the questions below.\n",
        "import pandas as pd\n",
        "\n",
        "df = pd.DataFrame(\n",
        "    columns=['x', 'y', 'z'],\n",
        "    index=['row1', 'row2', 'row3'],\n",
        "    data=[[9, 3, 7], [1, 2, 4], [4, 6, 8]])\n"
      ],
      "metadata": {
        "id": "--XDmwVsbMC0"
      },
      "execution_count": 6,
      "outputs": []
    },
    {
      "cell_type": "code",
      "source": [
        "# Format a command that displays the entire DataFrame.\n",
        "print(df)"
      ],
      "metadata": {
        "id": "BOEWyifRiA-W",
        "outputId": "334693db-d6f0-47d8-ea30-c5789769edb8",
        "colab": {
          "base_uri": "https://localhost:8080/"
        }
      },
      "execution_count": 7,
      "outputs": [
        {
          "output_type": "stream",
          "name": "stdout",
          "text": [
            "      x  y  z\n",
            "row1  9  3  7\n",
            "row2  1  2  4\n",
            "row3  4  6  8\n"
          ]
        }
      ]
    },
    {
      "cell_type": "code",
      "source": [
        "# Format a command that selects and returns only the SECOND row of data from the df.\n",
        "print(df.loc['row2'])"
      ],
      "metadata": {
        "id": "RxqOYSNXiJ5U",
        "outputId": "625cdcec-2871-485f-84f8-596b3be945c5",
        "colab": {
          "base_uri": "https://localhost:8080/"
        }
      },
      "execution_count": 8,
      "outputs": [
        {
          "output_type": "stream",
          "name": "stdout",
          "text": [
            "x    1\n",
            "y    2\n",
            "z    4\n",
            "Name: row2, dtype: int64\n"
          ]
        }
      ]
    },
    {
      "cell_type": "code",
      "source": [
        "# Format a command that selects and returns only the `y` column of data from the df.\n",
        "print(df['y'])"
      ],
      "metadata": {
        "id": "Ca0bVgd2jEBV",
        "outputId": "099fcbd3-c104-42e9-9279-eb39fd3a9941",
        "colab": {
          "base_uri": "https://localhost:8080/"
        }
      },
      "execution_count": 9,
      "outputs": [
        {
          "output_type": "stream",
          "name": "stdout",
          "text": [
            "row1    3\n",
            "row2    2\n",
            "row3    6\n",
            "Name: y, dtype: int64\n"
          ]
        }
      ]
    },
    {
      "cell_type": "code",
      "source": [
        "# Format a command that displays the data types present in this DataFrame.\n",
        "print(df.dtypes)"
      ],
      "metadata": {
        "id": "VzMEHBPRiZfH",
        "outputId": "abc6db26-660c-43b0-f8f0-e64830620dbe",
        "colab": {
          "base_uri": "https://localhost:8080/"
        }
      },
      "execution_count": 10,
      "outputs": [
        {
          "output_type": "stream",
          "name": "stdout",
          "text": [
            "x    int64\n",
            "y    int64\n",
            "z    int64\n",
            "dtype: object\n"
          ]
        }
      ]
    },
    {
      "cell_type": "code",
      "source": [
        "# Finally, using the DataFrame object you created above, use the .T method with it.\n",
        "# For example, if your df was named \"mydf\" then issue this command:\n",
        "#\n",
        "#  mydf.T\n",
        "#\n",
        "# What does that command do to the DataFrame? Write your answer in the text block below.\n",
        "print(df.T)"
      ],
      "metadata": {
        "id": "kOuxKUktlzrY"
      },
      "execution_count": null,
      "outputs": []
    },
    {
      "cell_type": "markdown",
      "source": [
        "Just like using .T in the previous question, it switches the columns and rows of the dataframe."
      ],
      "metadata": {
        "id": "X7KW5F-Al7oX"
      }
    }
  ]
}