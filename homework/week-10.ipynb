{
  "nbformat": 4,
  "nbformat_minor": 0,
  "metadata": {
    "colab": {
      "provenance": [],
      "include_colab_link": true
    },
    "kernelspec": {
      "name": "python3",
      "display_name": "Python 3"
    },
    "language_info": {
      "name": "python"
    }
  },
  "cells": [
    {
      "cell_type": "markdown",
      "metadata": {
        "id": "view-in-github",
        "colab_type": "text"
      },
      "source": [
        "<a href=\"https://colab.research.google.com/github/ckusmana21/ds1002-zrb5zc/blob/main/homework/week-10.ipynb\" target=\"_parent\"><img src=\"https://colab.research.google.com/assets/colab-badge.svg\" alt=\"Open In Colab\"/></a>"
      ]
    },
    {
      "cell_type": "markdown",
      "source": [
        "# Homework - Week 10\n",
        "\n",
        "Complete the following blocks as specified in the directions. Run each cell to return the desired output. Save your notebook back to your GitHub repository and submit the GitHub URL to your notebook for review."
      ],
      "metadata": {
        "id": "phbaQTT5gy8A"
      }
    },
    {
      "cell_type": "markdown",
      "source": [
        "## Class Basics\n",
        "\n",
        "Closely inspect the class below and answer the questions in the following cells."
      ],
      "metadata": {
        "id": "38Pg39pMrDua"
      }
    },
    {
      "cell_type": "code",
      "source": [
        "class Products:\n",
        "  def __init__(self, id, name, price, description, manufacturer):\n",
        "    self.id = id\n",
        "    self.name = name\n",
        "    self.price = price\n",
        "    self.description = description\n",
        "    self.manufacturer = manufacturer\n",
        "\n",
        "  def print_product(self):\n",
        "    print(f\"Product {self.id} is {self.name} made by {self.manufacturer}. It costs ${self.price}\")"
      ],
      "metadata": {
        "id": "kdFLCHtOg53p"
      },
      "execution_count": 4,
      "outputs": []
    },
    {
      "cell_type": "code",
      "source": [
        "# What are the attributes of this class?\n",
        "id, name, price, description, manufacturer"
      ],
      "metadata": {
        "id": "SG85PC5Q0oSi"
      },
      "execution_count": null,
      "outputs": []
    },
    {
      "cell_type": "code",
      "source": [
        "# In one line of code, create an instance of the class populating its attributes.\n",
        "class Products:\n",
        "  def __init__(self, id, name, price, description, manufacturer):\n",
        "    self.id = id\n",
        "    self.name = name\n",
        "    self.price = price\n",
        "    self.description = description\n",
        "    self.manufacturer = manufacturer\n",
        "\n",
        "  def print_product(self):\n",
        "    print(f\"Product {self.id} is {self.name} made by {self.manufacturer}. It costs ${self.price}\")\n",
        "\n",
        "instance_of_Products = Products(id=1, name=\"[Product Name]\", price=5, description=\"a product\", manufacturer=\"a manufacturer\")"
      ],
      "metadata": {
        "id": "ckuUZlUc0q8D"
      },
      "execution_count": 32,
      "outputs": []
    },
    {
      "cell_type": "code",
      "source": [
        "# Referencing the instance you just created, what code is required to print out the name of the instance?\n",
        "print(instance_of_Products.name)"
      ],
      "metadata": {
        "id": "Ksp2TAiM0u5t",
        "outputId": "8a3c261e-e62c-4829-e324-ff70bc930060",
        "colab": {
          "base_uri": "https://localhost:8080/"
        }
      },
      "execution_count": 33,
      "outputs": [
        {
          "output_type": "stream",
          "name": "stdout",
          "text": [
            "[Product Name]\n"
          ]
        }
      ]
    },
    {
      "cell_type": "markdown",
      "source": [
        "## Class Methods"
      ],
      "metadata": {
        "id": "0jQs4JYU2Kfh"
      }
    },
    {
      "cell_type": "code",
      "source": [
        "# Using the instance you created above, call the `print_product` method properly in a line of code.\n",
        "instance_of_Products.print_product()"
      ],
      "metadata": {
        "id": "aO-zWkhd172f",
        "outputId": "bb611b70-7bce-442b-958b-2743cbfa9777",
        "colab": {
          "base_uri": "https://localhost:8080/"
        }
      },
      "execution_count": 34,
      "outputs": [
        {
          "output_type": "stream",
          "name": "stdout",
          "text": [
            "Product 1 is [Product Name] made by a manufacturer. It costs $5\n"
          ]
        }
      ]
    },
    {
      "cell_type": "code",
      "source": [
        "# Now declare the class again (copy + paste from above). But now add a NEW method that you write.\n",
        "# This method should create a new attribute called \"sales_price\" that is 80% of the normal price.\n",
        "#\n",
        "# Finally, write this method to print out a statement like \"The ________ product is on sale for _____\"\n",
        "# where you fill in the blanks with the name and sales_price of the product.\n",
        "\n",
        "class Products:\n",
        "    def __init__(self, id, name, price, description, manufacturer):\n",
        "        self.id = id\n",
        "        self.name = name\n",
        "        self.price = price\n",
        "        self.description = description\n",
        "        self.manufacturer = manufacturer\n",
        "\n",
        "    def print_product(self):\n",
        "        print(f\"Product {self.id} is {self.name} made by {self.manufacturer}. It costs ${self.price}\")\n",
        "\n",
        "    def eighty_perc(self):\n",
        "        self.sales_price = self.price * 0.8\n",
        "        print(f\"The {self.name} product is on sale for ${self.sales_price}\")\n",
        "\n",
        "instance_of_Products = Products(id=1, name=\"[Product Name]\", price=5, description=\"a product\", manufacturer=\"a manufacturer\")\n",
        "instance_of_Products.eighty_perc()"
      ],
      "metadata": {
        "id": "75apcUeJ2VQo",
        "outputId": "a1cc8ac6-7543-430e-cc83-58668a871b1b",
        "colab": {
          "base_uri": "https://localhost:8080/"
        }
      },
      "execution_count": 53,
      "outputs": [
        {
          "output_type": "stream",
          "name": "stdout",
          "text": [
            "The [Product Name] product is on sale for $4.0\n"
          ]
        }
      ]
    },
    {
      "cell_type": "code",
      "source": [
        "instance_of_Products.print_product()\n",
        "instance_of_Products.eighty_perc()"
      ],
      "metadata": {
        "id": "TZiNWOl_2-oh",
        "outputId": "fb4080d6-9041-4fb6-efce-ce818440ab81",
        "colab": {
          "base_uri": "https://localhost:8080/"
        }
      },
      "execution_count": 55,
      "outputs": [
        {
          "output_type": "stream",
          "name": "stdout",
          "text": [
            "Product 1 is [Product Name] made by a manufacturer. It costs $5\n",
            "The [Product Name] product is on sale for $4.0\n"
          ]
        }
      ]
    },
    {
      "cell_type": "code",
      "source": [
        "new_instance = Products(id=2, name=\"another product\", price=8, description=\"a new product\", manufacturer=\"another manufacturer\")"
      ],
      "metadata": {
        "id": "TT8qK1Ie3EVX"
      },
      "execution_count": 56,
      "outputs": []
    },
    {
      "cell_type": "code",
      "source": [
        "# Finally, using the instance you just created, invoke the new method you wrote. Be sure it prints\n",
        "# the desired text described above.\n",
        "\n",
        "new_instance.print_product()\n",
        "new_instance.eighty_perc()"
      ],
      "metadata": {
        "id": "mobnFcMw3Icp",
        "outputId": "5cd2caa9-b027-453d-85bd-3f0acf640a0a",
        "colab": {
          "base_uri": "https://localhost:8080/"
        }
      },
      "execution_count": 57,
      "outputs": [
        {
          "output_type": "stream",
          "name": "stdout",
          "text": [
            "Product 2 is another product made by another manufacturer. It costs $8\n",
            "The another product product is on sale for $6.4\n"
          ]
        }
      ]
    }
  ]
}