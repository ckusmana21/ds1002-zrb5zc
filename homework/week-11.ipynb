{
  "nbformat": 4,
  "nbformat_minor": 0,
  "metadata": {
    "colab": {
      "provenance": [],
      "include_colab_link": true
    },
    "kernelspec": {
      "name": "python3",
      "display_name": "Python 3"
    },
    "language_info": {
      "name": "python"
    }
  },
  "cells": [
    {
      "cell_type": "markdown",
      "metadata": {
        "id": "view-in-github",
        "colab_type": "text"
      },
      "source": [
        "<a href=\"https://colab.research.google.com/github/ckusmana21/ds1002-zrb5zc/blob/main/homework/week-11.ipynb\" target=\"_parent\"><img src=\"https://colab.research.google.com/assets/colab-badge.svg\" alt=\"Open In Colab\"/></a>"
      ]
    },
    {
      "cell_type": "markdown",
      "source": [
        "# Homework - Error Handling & Recursion\n",
        "\n",
        "Complete the cells below. Pay close attention to all directions given.\n",
        "\n",
        "## Error Handling (3 pts)\n",
        "\n",
        "```\n",
        "def throw_me_an_error():\n",
        "  val1 = 14\n",
        "  val2 = 0\n",
        "  return val1 / val2\n",
        "\n",
        "throw_me_an_error()\n",
        "```\n",
        "\n",
        "The function above is designed to deliberately throw an error.\n",
        "\n",
        "Create a new version of the function but add `try` and `except` statements correctly. Your exception should print out the type of error this function created. There are a couple of different ways you could do this.\n"
      ],
      "metadata": {
        "id": "v14Xtd9oiTGF"
      }
    },
    {
      "cell_type": "code",
      "execution_count": 31,
      "metadata": {
        "id": "-dfq0Vo_iSi7",
        "outputId": "7b9507a3-999e-48e5-c62d-216714d78d6f",
        "colab": {
          "base_uri": "https://localhost:8080/"
        }
      },
      "outputs": [
        {
          "output_type": "stream",
          "name": "stdout",
          "text": [
            "division by zero\n",
            "Type of error: You cannot divide a number by 0.\n"
          ]
        }
      ],
      "source": [
        "# answer goes here.\n",
        "def throw_me_an_error():\n",
        "    try:\n",
        "        val1 = 14\n",
        "        val2 = 0\n",
        "        return val1 / val2\n",
        "    except ZeroDivisionError as e:\n",
        "        print(e)\n",
        "        print(\"Type of error: You cannot divide a number by 0.\")\n",
        "    except Exception as e:\n",
        "        print(f\"Error: {type(e).__name__}\")\n",
        "        print(e)\n",
        "\n",
        "throw_me_an_error()\n"
      ]
    },
    {
      "cell_type": "markdown",
      "source": [
        "## Error Handling (4 pts)\n",
        "\n",
        "Extend the class below to include some error handling. Assume the remote resource is offline for a moment: How would you give a message to the user indicating what has gone wrong? (Hint: one way you can test this is by deliberately misspelling the URL for the remote resource.)\n",
        "\n",
        "Also, include error handling logic so that execution of the class method `guid()` always returns a line \"Your request has been completed\" along with the guid it created.\n",
        "\n",
        "```\n",
        "import requests\n",
        "import json\n",
        "import sys\n",
        "\n",
        "class Id:\n",
        "\n",
        "  def guid():\n",
        "    response = requests.get('https://ids.pods.uvarc.io/guid')\n",
        "    body = json.loads(response.text)\n",
        "    return body['id']\n",
        "\n",
        "Id.guid()\n",
        "```"
      ],
      "metadata": {
        "id": "gf9m78RWmWqC"
      }
    },
    {
      "cell_type": "code",
      "source": [
        "# answer goes here\n",
        "import requests\n",
        "import json\n",
        "\n",
        "class Id:\n",
        "\n",
        "    def guid():\n",
        "        try:\n",
        "            response = requests.get('https://ids.pods.uvarc.io/guid')\n",
        "            body = json.loads(response.text)\n",
        "            return body['id']\n",
        "\n",
        "        except requests.exceptions as e:\n",
        "            return f\"Remote resource cannot be accessed at this moment: {str(e)}\"\n",
        "\n",
        "try:\n",
        "    result = Id.guid()\n",
        "    print(result)\n",
        "except requests.exceptions:\n",
        "    print(\"Remote resource cannot be accessed at this moment.\")\n",
        "finally:\n",
        "    print(\"Your request has been completed\")"
      ],
      "metadata": {
        "id": "hT5B-LokmUbU",
        "outputId": "9eaa51e9-4080-46cb-8844-8abc560e62aa",
        "colab": {
          "base_uri": "https://localhost:8080/"
        }
      },
      "execution_count": 33,
      "outputs": [
        {
          "output_type": "stream",
          "name": "stdout",
          "text": [
            "f9b44110-b1c0-4fb6-b8e2-d4844cbef7d2\n",
            "Your request has been completed\n"
          ]
        }
      ]
    },
    {
      "cell_type": "markdown",
      "source": [
        "## Recursive Functions (3 pts)\n",
        "\n",
        "In the cell below, explain line by line the logic of what is being calculated when the function is called with an input value of 2.\n",
        "\n",
        "```\n",
        "def squarer(n):\n",
        "  if n == 1:\n",
        "    return 2\n",
        "  else:\n",
        "    return squarer(n-1) ** 2 + n\n",
        "\n",
        "squarer(2)\n",
        "```"
      ],
      "metadata": {
        "id": "XCuNofSFomZ6"
      }
    },
    {
      "cell_type": "code",
      "source": [
        "# answer goes here. Add space as needed.\n",
        "\n",
        "Line 1. Defines the squarer function, which calculates the answer depending on the n value.\n",
        "\n",
        "Line 2. Checks if n is exactly 1.\n",
        "\n",
        "Line 3. Makes it such that if n = 1, the function returns the value 2.\n",
        "\n",
        "Line 4. Makes it such that if n is not 1, the code following else will be executed instead of returning the value 2.\n",
        "\n",
        "Line 5. [else: return squarer(n-1) ** 2 + n] In the example of \"squarer(2)\" n is 2 and not 1. So, the code executes and calculates squarer(2-1) = 1,\n",
        "which leads to squarer(1) to return 2. This results in 2**2+2 = 4 + 2 = 6. This means the function returns 6.\n"
      ],
      "metadata": {
        "id": "oYiqS2cxxXm4"
      },
      "execution_count": null,
      "outputs": []
    }
  ]
}